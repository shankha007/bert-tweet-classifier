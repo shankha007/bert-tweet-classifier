{
 "cells": [
  {
   "cell_type": "markdown",
   "id": "63345b04",
   "metadata": {
    "id": "jTYQb7wBFUrs",
    "papermill": {
     "duration": 0.007989,
     "end_time": "2023-08-14T18:09:15.959725",
     "exception": false,
     "start_time": "2023-08-14T18:09:15.951736",
     "status": "completed"
    },
    "tags": []
   },
   "source": [
    "**IMPORTS**\n",
    "\n",
    "---\n",
    "\n"
   ]
  },
  {
   "cell_type": "code",
   "execution_count": null,
   "id": "8e35ef19",
   "metadata": {
    "execution": {
     "iopub.execute_input": "2023-08-14T18:09:15.978106Z",
     "iopub.status.busy": "2023-08-14T18:09:15.977738Z",
     "iopub.status.idle": "2023-08-14T18:09:52.661092Z",
     "shell.execute_reply": "2023-08-14T18:09:52.659828Z"
    },
    "executionInfo": {
     "elapsed": 14668,
     "status": "ok",
     "timestamp": 1690975146752,
     "user": {
      "displayName": "Sohan Choudhury",
      "userId": "03384336541033651196"
     },
     "user_tz": -330
    },
    "id": "kxYy-5Th_oOb",
    "outputId": "73a83a98-1d6f-433e-8b97-7fe1d728451f",
    "papermill": {
     "duration": 36.695705,
     "end_time": "2023-08-14T18:09:52.663846",
     "exception": false,
     "start_time": "2023-08-14T18:09:15.968141",
     "status": "completed"
    },
    "tags": []
   },
   "outputs": [],
   "source": [
    "#scripts\n",
    "!pip install emoji\n",
    "!pip install transformers"
   ]
  },
  {
   "cell_type": "code",
   "execution_count": null,
   "id": "d09fa750",
   "metadata": {
    "execution": {
     "iopub.execute_input": "2023-08-14T18:09:52.683419Z",
     "iopub.status.busy": "2023-08-14T18:09:52.683107Z",
     "iopub.status.idle": "2023-08-14T18:10:04.955089Z",
     "shell.execute_reply": "2023-08-14T18:10:04.954086Z"
    },
    "executionInfo": {
     "elapsed": 10,
     "status": "ok",
     "timestamp": 1690975146753,
     "user": {
      "displayName": "Sohan Choudhury",
      "userId": "03384336541033651196"
     },
     "user_tz": -330
    },
    "id": "dXcbxd-ko02e",
    "papermill": {
     "duration": 12.284546,
     "end_time": "2023-08-14T18:10:04.957679",
     "exception": false,
     "start_time": "2023-08-14T18:09:52.673133",
     "status": "completed"
    },
    "tags": []
   },
   "outputs": [],
   "source": [
    "import pandas as pd\n",
    "import tensorflow as tf\n",
    "import numpy as np\n",
    "import emoji as emo\n",
    "import re\n",
    "from transformers import BertTokenizer\n",
    "from sklearn.preprocessing import MultiLabelBinarizer #for binary encoding of labels\n",
    "from sklearn.model_selection import train_test_split\n",
    "import tensorflow_hub as hub"
   ]
  },
  {
   "cell_type": "markdown",
   "id": "83d99dc0",
   "metadata": {
    "id": "RrO-L0lFusOB",
    "papermill": {
     "duration": 0.009058,
     "end_time": "2023-08-14T18:10:04.976338",
     "exception": false,
     "start_time": "2023-08-14T18:10:04.967280",
     "status": "completed"
    },
    "tags": []
   },
   "source": [
    "**DATASET AND LABEL ONE-HOT ENCODING**\n",
    "\n",
    "---\n",
    "\n"
   ]
  },
  {
   "cell_type": "code",
   "execution_count": null,
   "id": "a08f20cd",
   "metadata": {
    "execution": {
     "iopub.execute_input": "2023-08-14T18:10:04.995502Z",
     "iopub.status.busy": "2023-08-14T18:10:04.994350Z",
     "iopub.status.idle": "2023-08-14T18:10:05.163714Z",
     "shell.execute_reply": "2023-08-14T18:10:05.162522Z"
    },
    "executionInfo": {
     "elapsed": 10,
     "status": "ok",
     "timestamp": 1690975146754,
     "user": {
      "displayName": "Sohan Choudhury",
      "userId": "03384336541033651196"
     },
     "user_tz": -330
    },
    "id": "FMe2OHBzsRoT",
    "outputId": "1a360687-b2e8-461c-ebd5-2977b5b73665",
    "papermill": {
     "duration": 0.181449,
     "end_time": "2023-08-14T18:10:05.166351",
     "exception": false,
     "start_time": "2023-08-14T18:10:04.984902",
     "status": "completed"
    },
    "tags": []
   },
   "outputs": [],
   "source": [
    "path_train = 'aisome23_train/val_train.csv'\n",
    "path_test = 'aisome23_test/test.csv'\n",
    "ds = pd.read_csv(path_train)\n",
    "tds = pd.read_csv(path_test)\n",
    "\n",
    "#converting label strings into set\n",
    "lst = ds['labels'].to_list()\n",
    "labels = [[label] for label in lst]\n",
    "def sep(target):\n",
    "    return target[0].split()\n",
    "\n",
    "seplabels = [sep(label) for label in labels]\n",
    "#one-hot encoding\n",
    "mlb = MultiLabelBinarizer()\n",
    "labels = mlb.fit_transform(seplabels)\n",
    "label_array = np.array(labels)\n",
    "tds.head()"
   ]
  },
  {
   "cell_type": "markdown",
   "id": "c0cb1670",
   "metadata": {
    "id": "Gnme7J1cJGmD",
    "papermill": {
     "duration": 0.009611,
     "end_time": "2023-08-14T18:10:05.186545",
     "exception": false,
     "start_time": "2023-08-14T18:10:05.176934",
     "status": "completed"
    },
    "tags": []
   },
   "source": [
    "## **PRE PROCESSING**\n",
    "\n",
    "---\n",
    "\n",
    "\n"
   ]
  },
  {
   "cell_type": "code",
   "execution_count": 4,
   "id": "6f514d6c",
   "metadata": {
    "execution": {
     "iopub.execute_input": "2023-08-14T18:10:05.206927Z",
     "iopub.status.busy": "2023-08-14T18:10:05.205941Z",
     "iopub.status.idle": "2023-08-14T18:10:09.388285Z",
     "shell.execute_reply": "2023-08-14T18:10:09.387182Z"
    },
    "executionInfo": {
     "elapsed": 3208,
     "status": "ok",
     "timestamp": 1690975149955,
     "user": {
      "displayName": "Sohan Choudhury",
      "userId": "03384336541033651196"
     },
     "user_tz": -330
    },
    "id": "X3V_8SvTH7mw",
    "papermill": {
     "duration": 4.195381,
     "end_time": "2023-08-14T18:10:09.391172",
     "exception": false,
     "start_time": "2023-08-14T18:10:05.195791",
     "status": "completed"
    },
    "tags": []
   },
   "outputs": [],
   "source": [
    "def proc(tweet):\n",
    "    tweet = tweet.lower()\n",
    "    tweet = emo.demojize(tweet) #emoji to string\n",
    "    tweet = re.sub(r\"http[s]?://t.co/[a-zA-Z0-9]+\" , \"\" , tweet)  #https twitter link removal\n",
    "    tweet = re.sub(r\"[!\\\"#\\$%&\\'\\(\\)\\*\\+,-\\./:;<=>\\?@\\[\\\\\\]\\^_`{\\|}~]\" , \"\" , tweet) #unwanted expressions\n",
    "    return(tweet)\n",
    "\n",
    "tweets = ds['tweet'].apply(proc).tolist() #training data list\n",
    "tests = tds['tweet'].apply(proc).tolist() #test data list"
   ]
  },
  {
   "cell_type": "code",
   "execution_count": 5,
   "id": "a513ecfe",
   "metadata": {
    "execution": {
     "iopub.execute_input": "2023-08-14T18:10:09.414630Z",
     "iopub.status.busy": "2023-08-14T18:10:09.414265Z",
     "iopub.status.idle": "2023-08-14T18:10:09.421160Z",
     "shell.execute_reply": "2023-08-14T18:10:09.420171Z"
    },
    "executionInfo": {
     "elapsed": 4,
     "status": "ok",
     "timestamp": 1690975149955,
     "user": {
      "displayName": "Sohan Choudhury",
      "userId": "03384336541033651196"
     },
     "user_tz": -330
    },
    "id": "50NRf12vL0fS",
    "outputId": "ca82f2d1-98dd-4878-fc15-e7495f037bf5",
    "papermill": {
     "duration": 0.020562,
     "end_time": "2023-08-14T18:10:09.423604",
     "exception": false,
     "start_time": "2023-08-14T18:10:09.403042",
     "status": "completed"
    },
    "tags": []
   },
   "outputs": [
    {
     "data": {
      "text/plain": [
       "12"
      ]
     },
     "execution_count": 5,
     "metadata": {},
     "output_type": "execute_result"
    }
   ],
   "source": [
    "num_classes = len(mlb.classes_)\n",
    "num_classes"
   ]
  },
  {
   "cell_type": "code",
   "execution_count": null,
   "id": "358076f9",
   "metadata": {
    "execution": {
     "iopub.execute_input": "2023-08-14T18:10:09.446030Z",
     "iopub.status.busy": "2023-08-14T18:10:09.445718Z",
     "iopub.status.idle": "2023-08-14T18:10:31.208640Z",
     "shell.execute_reply": "2023-08-14T18:10:31.207418Z"
    },
    "executionInfo": {
     "elapsed": 6362,
     "status": "ok",
     "timestamp": 1690975156314,
     "user": {
      "displayName": "Sohan Choudhury",
      "userId": "03384336541033651196"
     },
     "user_tz": -330
    },
    "id": "fhNfU0uvaqsy",
    "papermill": {
     "duration": 21.777472,
     "end_time": "2023-08-14T18:10:31.211678",
     "exception": false,
     "start_time": "2023-08-14T18:10:09.434206",
     "status": "completed"
    },
    "tags": []
   },
   "outputs": [],
   "source": [
    "\n",
    "tok = BertTokenizer.from_pretrained('bert-base-uncased')\n",
    "tweet_encoded_training = tok(tweets , padding='max_length' , truncation=True , max_length = 150 , return_tensors='tf')\n",
    "tweet_encoded_test = tok(tests , padding='max_length', truncation = True , max_length = 150 , return_tensors='tf')\n",
    "\n",
    "x_train = {\n",
    "    'input_word_ids':tweet_encoded_training['input_ids'],\n",
    "    'input_mask': tweet_encoded_training['attention_mask'],\n",
    "    'input_type_ids': tweet_encoded_training['token_type_ids']\n",
    "}\n",
    "\n",
    "x_test = {\n",
    "    'input_word_ids': tweet_encoded_test['input_ids'],\n",
    "    'input_mask': tweet_encoded_test['attention_mask'],\n",
    "    'input_type_ids': tweet_encoded_test['token_type_ids']\n",
    "}"
   ]
  },
  {
   "cell_type": "markdown",
   "id": "eeab6e0a",
   "metadata": {
    "id": "NXiI6RceGLry",
    "papermill": {
     "duration": 0.009936,
     "end_time": "2023-08-14T18:10:31.232555",
     "exception": false,
     "start_time": "2023-08-14T18:10:31.222619",
     "status": "completed"
    },
    "tags": []
   },
   "source": [
    "**TRAIN_TEST_SPLIT AND CONVERTING TO DICTIONARY WITH INPUTS**\n",
    "\n",
    "---\n",
    "\n"
   ]
  },
  {
   "cell_type": "code",
   "execution_count": null,
   "id": "05ae1b35",
   "metadata": {
    "execution": {
     "iopub.execute_input": "2023-08-14T18:10:31.254813Z",
     "iopub.status.busy": "2023-08-14T18:10:31.254446Z",
     "iopub.status.idle": "2023-08-14T18:10:39.918695Z",
     "shell.execute_reply": "2023-08-14T18:10:39.917559Z"
    },
    "executionInfo": {
     "elapsed": 15711,
     "status": "ok",
     "timestamp": 1690975172022,
     "user": {
      "displayName": "Sohan Choudhury",
      "userId": "03384336541033651196"
     },
     "user_tz": -330
    },
    "id": "O7Gu_ax3CmUo",
    "outputId": "2a69d04a-d996-4e95-ccdf-86f8dfccba8a",
    "papermill": {
     "duration": 8.677972,
     "end_time": "2023-08-14T18:10:39.921038",
     "exception": false,
     "start_time": "2023-08-14T18:10:31.243066",
     "status": "completed"
    },
    "tags": []
   },
   "outputs": [],
   "source": [
    "data_list = [({'input_word_ids': x_train['input_word_ids'][i],\n",
    "               'input_mask': x_train['input_mask'][i],\n",
    "               'segment_ids': x_train['input_type_ids'][i]}, label) for i, label in enumerate(label_array)]\n",
    "\n",
    "train_list, val_list = train_test_split(data_list, test_size=0.2, random_state=42)\n",
    "\n",
    "train_x = {'input_word_ids': np.array([elem[0]['input_word_ids'] for elem in train_list]),\n",
    "           'input_mask': np.array([elem[0]['input_mask'] for elem in train_list]),\n",
    "           'input_type_ids': np.array([elem[0]['segment_ids'] for elem in train_list])}\n",
    "\n",
    "val_x = {'input_word_ids': np.array([elem[0]['input_word_ids'] for elem in val_list]),\n",
    "         'input_mask': np.array([elem[0]['input_mask'] for elem in val_list]),\n",
    "         'input_type_ids': np.array([elem[0]['segment_ids'] for elem in val_list])}\n",
    "\n",
    "train_labels = np.array([elem[1] for elem in train_list])\n",
    "val_labels = np.array([elem[1] for elem in val_list])\n",
    "val_labels.shape"
   ]
  },
  {
   "cell_type": "code",
   "execution_count": 8,
   "id": "30834522",
   "metadata": {
    "execution": {
     "iopub.execute_input": "2023-08-14T18:10:39.943663Z",
     "iopub.status.busy": "2023-08-14T18:10:39.943327Z",
     "iopub.status.idle": "2023-08-14T18:10:39.952503Z",
     "shell.execute_reply": "2023-08-14T18:10:39.951586Z"
    },
    "executionInfo": {
     "elapsed": 5,
     "status": "ok",
     "timestamp": 1690975172023,
     "user": {
      "displayName": "Sohan Choudhury",
      "userId": "03384336541033651196"
     },
     "user_tz": -330
    },
    "id": "HhUh4dP_S8_4",
    "papermill": {
     "duration": 0.022925,
     "end_time": "2023-08-14T18:10:39.954735",
     "exception": false,
     "start_time": "2023-08-14T18:10:39.931810",
     "status": "completed"
    },
    "tags": []
   },
   "outputs": [],
   "source": [
    "tf.keras.backend.clear_session()"
   ]
  },
  {
   "cell_type": "markdown",
   "id": "04f17a90",
   "metadata": {
    "id": "kNgtIQIaUTGu",
    "papermill": {
     "duration": 0.010213,
     "end_time": "2023-08-14T18:10:39.975712",
     "exception": false,
     "start_time": "2023-08-14T18:10:39.965499",
     "status": "completed"
    },
    "tags": []
   },
   "source": [
    "**MODEL**\n",
    "\n",
    "---\n",
    "\n"
   ]
  },
  {
   "cell_type": "code",
   "execution_count": 9,
   "id": "9f1a6e22",
   "metadata": {
    "execution": {
     "iopub.execute_input": "2023-08-14T18:10:39.998241Z",
     "iopub.status.busy": "2023-08-14T18:10:39.997363Z",
     "iopub.status.idle": "2023-08-14T18:10:50.988899Z",
     "shell.execute_reply": "2023-08-14T18:10:50.987866Z"
    },
    "executionInfo": {
     "elapsed": 12092,
     "status": "ok",
     "timestamp": 1690975184111,
     "user": {
      "displayName": "Sohan Choudhury",
      "userId": "03384336541033651196"
     },
     "user_tz": -330
    },
    "id": "hBmeLnhnxk4T",
    "papermill": {
     "duration": 11.005207,
     "end_time": "2023-08-14T18:10:50.991260",
     "exception": false,
     "start_time": "2023-08-14T18:10:39.986053",
     "status": "completed"
    },
    "tags": []
   },
   "outputs": [],
   "source": [
    "module_url = 'https://tfhub.dev/tensorflow/bert_en_uncased_L-12_H-768_A-12/2'\n",
    "bert_layer = hub.KerasLayer(module_url, trainable=True)\n",
    "max_len = 150"
   ]
  },
  {
   "cell_type": "code",
   "execution_count": 10,
   "id": "9f4f9838",
   "metadata": {
    "execution": {
     "iopub.execute_input": "2023-08-14T18:10:51.012557Z",
     "iopub.status.busy": "2023-08-14T18:10:51.012201Z",
     "iopub.status.idle": "2023-08-14T18:10:51.021783Z",
     "shell.execute_reply": "2023-08-14T18:10:51.020924Z"
    },
    "executionInfo": {
     "elapsed": 10,
     "status": "ok",
     "timestamp": 1690975184111,
     "user": {
      "displayName": "Sohan Choudhury",
      "userId": "03384336541033651196"
     },
     "user_tz": -330
    },
    "id": "bTEc8IrYaEdO",
    "papermill": {
     "duration": 0.02244,
     "end_time": "2023-08-14T18:10:51.024023",
     "exception": false,
     "start_time": "2023-08-14T18:10:51.001583",
     "status": "completed"
    },
    "tags": []
   },
   "outputs": [],
   "source": [
    "tf.keras.backend.clear_session()"
   ]
  },
  {
   "cell_type": "code",
   "execution_count": null,
   "id": "03bdc83f",
   "metadata": {
    "execution": {
     "iopub.execute_input": "2023-08-14T18:10:51.044496Z",
     "iopub.status.busy": "2023-08-14T18:10:51.044215Z",
     "iopub.status.idle": "2023-08-14T18:10:51.916142Z",
     "shell.execute_reply": "2023-08-14T18:10:51.915290Z"
    },
    "executionInfo": {
     "elapsed": 9626,
     "status": "ok",
     "timestamp": 1690975193728,
     "user": {
      "displayName": "Sohan Choudhury",
      "userId": "03384336541033651196"
     },
     "user_tz": -330
    },
    "id": "xkzAvN3ICPcX",
    "outputId": "6feed225-4654-4485-ab3c-da9269ca5c5d",
    "papermill": {
     "duration": 0.889572,
     "end_time": "2023-08-14T18:10:51.923155",
     "exception": false,
     "start_time": "2023-08-14T18:10:51.033583",
     "status": "completed"
    },
    "tags": []
   },
   "outputs": [],
   "source": [
    "def build_model(num_classes):\n",
    "    input_word_ids = tf.keras.Input(shape=(max_len,), dtype=tf.int32, name=\"input_ids\")\n",
    "    input_mask = tf.keras.Input(shape=(max_len,), dtype=tf.int32, name=\"attention_mask\")\n",
    "    segment_ids = tf.keras.Input(shape=(max_len,), dtype=tf.int32, name=\"segment_ids\")\n",
    "\n",
    "    pooled_output , sequence_output = bert_layer([input_word_ids , input_mask , segment_ids])\n",
    "    dense = tf.keras.layers.Dense(128, activation='relu')(pooled_output)\n",
    "    drop = tf.keras.layers.Dropout(0.1)(dense)\n",
    "    dense2 = tf.keras.layers.Dense(64 , activation='relu')(drop)\n",
    "    drop2 = tf.keras.layers.Dropout(0.1)(dense2)\n",
    "    output = tf.keras.layers.Dense(num_classes , activation = 'sigmoid' , name = 'output')(drop2)\n",
    "\n",
    "    model = tf.keras.Model(inputs = {\n",
    "        'input_word_ids' : input_word_ids,\n",
    "        'input_mask': input_mask,\n",
    "        'input_type_ids': segment_ids\n",
    "    }, outputs = output)\n",
    "\n",
    "    return model\n",
    "\n",
    "num_classes = 12\n",
    "model = build_model(num_classes)\n",
    "model.compile(optimizer = tf.keras.optimizers.Adam(learning_rate = 1e-6),\n",
    "              loss = tf.keras.losses.BinaryCrossentropy(),\n",
    "              metrics = 'accuracy')\n",
    "\n",
    "model.summary()"
   ]
  },
  {
   "cell_type": "code",
   "execution_count": 12,
   "id": "e8e82861",
   "metadata": {
    "execution": {
     "iopub.execute_input": "2023-08-14T18:10:51.953190Z",
     "iopub.status.busy": "2023-08-14T18:10:51.951943Z",
     "iopub.status.idle": "2023-08-14T18:10:51.961761Z",
     "shell.execute_reply": "2023-08-14T18:10:51.960655Z"
    },
    "executionInfo": {
     "elapsed": 4,
     "status": "ok",
     "timestamp": 1690975193728,
     "user": {
      "displayName": "Sohan Choudhury",
      "userId": "03384336541033651196"
     },
     "user_tz": -330
    },
    "id": "8e_dzozX8q8V",
    "papermill": {
     "duration": 0.028204,
     "end_time": "2023-08-14T18:10:51.964321",
     "exception": false,
     "start_time": "2023-08-14T18:10:51.936117",
     "status": "completed"
    },
    "tags": []
   },
   "outputs": [],
   "source": [
    "tf.keras.backend.clear_session()"
   ]
  },
  {
   "cell_type": "markdown",
   "id": "60dfcd7c",
   "metadata": {
    "id": "2jzwPdDJXZOG",
    "papermill": {
     "duration": 0.011861,
     "end_time": "2023-08-14T18:10:51.988844",
     "exception": false,
     "start_time": "2023-08-14T18:10:51.976983",
     "status": "completed"
    },
    "tags": []
   },
   "source": [
    "**TRAINING**\n",
    "\n",
    "---\n",
    "\n"
   ]
  },
  {
   "cell_type": "code",
   "execution_count": null,
   "id": "7962e5ed",
   "metadata": {
    "execution": {
     "iopub.execute_input": "2023-08-14T18:10:52.013395Z",
     "iopub.status.busy": "2023-08-14T18:10:52.013122Z",
     "iopub.status.idle": "2023-08-14T18:26:15.812747Z",
     "shell.execute_reply": "2023-08-14T18:26:15.811462Z"
    },
    "executionInfo": {
     "elapsed": 667045,
     "status": "error",
     "timestamp": 1690975860770,
     "user": {
      "displayName": "Sohan Choudhury",
      "userId": "03384336541033651196"
     },
     "user_tz": -330
    },
    "id": "KA3Fk33cKKQb",
    "outputId": "385ec91c-a24e-4413-a896-9831381d444b",
    "papermill": {
     "duration": 923.902601,
     "end_time": "2023-08-14T18:26:15.903329",
     "exception": false,
     "start_time": "2023-08-14T18:10:52.000728",
     "status": "completed"
    },
    "tags": []
   },
   "outputs": [],
   "source": [
    "model.fit(train_x , train_labels , validation_data=(val_x , val_labels) , epochs=3, batch_size=16)\n",
    "#clear GPU memory\n",
    "tf.keras.backend.clear_session()"
   ]
  },
  {
   "cell_type": "code",
   "execution_count": null,
   "id": "db3aa8a5",
   "metadata": {
    "execution": {
     "iopub.execute_input": "2023-08-14T18:26:16.207208Z",
     "iopub.status.busy": "2023-08-14T18:26:16.205333Z",
     "iopub.status.idle": "2023-08-14T18:26:27.158718Z",
     "shell.execute_reply": "2023-08-14T18:26:27.157583Z"
    },
    "executionInfo": {
     "elapsed": 9,
     "status": "aborted",
     "timestamp": 1690975860771,
     "user": {
      "displayName": "Sohan Choudhury",
      "userId": "03384336541033651196"
     },
     "user_tz": -330
    },
    "id": "F1XpLrqBRrDg",
    "papermill": {
     "duration": 11.128899,
     "end_time": "2023-08-14T18:26:27.161812",
     "exception": false,
     "start_time": "2023-08-14T18:26:16.032913",
     "status": "completed"
    },
    "tags": []
   },
   "outputs": [],
   "source": [
    "output = model.predict(x_test)"
   ]
  },
  {
   "cell_type": "markdown",
   "id": "5ddc184c",
   "metadata": {
    "id": "45krjuWFbvoO",
    "papermill": {
     "duration": 0.125362,
     "end_time": "2023-08-14T18:26:27.417849",
     "exception": false,
     "start_time": "2023-08-14T18:26:27.292487",
     "status": "completed"
    },
    "tags": []
   },
   "source": [
    "Output / Metrics"
   ]
  },
  {
   "cell_type": "code",
   "execution_count": 15,
   "id": "6005f725",
   "metadata": {
    "execution": {
     "iopub.execute_input": "2023-08-14T18:26:27.674048Z",
     "iopub.status.busy": "2023-08-14T18:26:27.673332Z",
     "iopub.status.idle": "2023-08-14T18:26:27.683306Z",
     "shell.execute_reply": "2023-08-14T18:26:27.682342Z"
    },
    "executionInfo": {
     "elapsed": 9,
     "status": "aborted",
     "timestamp": 1690975860771,
     "user": {
      "displayName": "Sohan Choudhury",
      "userId": "03384336541033651196"
     },
     "user_tz": -330
    },
    "id": "m9UCe-a0XnAq",
    "papermill": {
     "duration": 0.141194,
     "end_time": "2023-08-14T18:26:27.685515",
     "exception": false,
     "start_time": "2023-08-14T18:26:27.544321",
     "status": "completed"
    },
    "tags": []
   },
   "outputs": [],
   "source": [
    "pred = (output > 0.25).astype(int)\n",
    "\n",
    "all_labels = mlb.classes_\n",
    "pred_list = mlb.inverse_transform(pred)\n",
    "ids = tds['id']\n",
    "#for choosing most likely labels(countering empty tuples)\n",
    "for i , tup in enumerate(pred_list):\n",
    "    if not tup: #if the tuple is empty\n",
    "      #analysing probs\n",
    "      prob = output[i]\n",
    "      top_index = prob.argsort()[-3:] #top 3 labels\n",
    "      final_label = all_labels[top_index]\n",
    "      pred_list[i] = tuple(final_label)"
   ]
  },
  {
   "cell_type": "markdown",
   "id": "f6e5c875",
   "metadata": {
    "id": "Ri4PepmuuiTr",
    "papermill": {
     "duration": 0.129516,
     "end_time": "2023-08-14T18:26:27.941681",
     "exception": false,
     "start_time": "2023-08-14T18:26:27.812165",
     "status": "completed"
    },
    "tags": []
   },
   "source": [
    "**MAKING CSV**\n",
    "\n",
    "---\n",
    "\n"
   ]
  },
  {
   "cell_type": "code",
   "execution_count": null,
   "id": "c731e937",
   "metadata": {
    "execution": {
     "iopub.execute_input": "2023-08-14T18:26:28.200486Z",
     "iopub.status.busy": "2023-08-14T18:26:28.199791Z",
     "iopub.status.idle": "2023-08-14T18:26:28.224359Z",
     "shell.execute_reply": "2023-08-14T18:26:28.223555Z"
    },
    "executionInfo": {
     "elapsed": 8,
     "status": "aborted",
     "timestamp": 1690975860771,
     "user": {
      "displayName": "Sohan Choudhury",
      "userId": "03384336541033651196"
     },
     "user_tz": -330
    },
    "id": "juKl1bg4ukGI",
    "papermill": {
     "duration": 0.157741,
     "end_time": "2023-08-14T18:26:28.230675",
     "exception": false,
     "start_time": "2023-08-14T18:26:28.072934",
     "status": "completed"
    },
    "tags": []
   },
   "outputs": [],
   "source": [
    "final_dict = {'id':[] , 'preds':[]}\n",
    "\n",
    "for i in range(len(ids)):\n",
    "    final_dict['id'].append(ids[i])\n",
    "    tuples = pred_list[i]\n",
    "    final_dict['preds'].append(' '.join(tuples))\n",
    "\n",
    "\n",
    "print(final_dict)\n",
    "\n",
    "final = pd.DataFrame(final_dict)\n",
    "final.to_csv('output_11823_1e6_30.csv' , index=False)"
   ]
  }
 ],
 "metadata": {
  "kernelspec": {
   "display_name": "Python 3",
   "language": "python",
   "name": "python3"
  },
  "language_info": {
   "codemirror_mode": {
    "name": "ipython",
    "version": 3
   },
   "file_extension": ".py",
   "mimetype": "text/x-python",
   "name": "python",
   "nbconvert_exporter": "python",
   "pygments_lexer": "ipython3",
   "version": "3.10.12"
  },
  "papermill": {
   "default_parameters": {},
   "duration": 1047.473265,
   "end_time": "2023-08-14T18:26:32.011976",
   "environment_variables": {},
   "exception": null,
   "input_path": "__notebook__.ipynb",
   "output_path": "__notebook__.ipynb",
   "parameters": {},
   "start_time": "2023-08-14T18:09:04.538711",
   "version": "2.4.0"
  },
  "widgets": {
   "application/vnd.jupyter.widget-state+json": {
    "state": {
     "005f86665f1a4d5f8640ab99649d8d52": {
      "model_module": "@jupyter-widgets/controls",
      "model_module_version": "1.5.0",
      "model_name": "HTMLModel",
      "state": {
       "_dom_classes": [],
       "_model_module": "@jupyter-widgets/controls",
       "_model_module_version": "1.5.0",
       "_model_name": "HTMLModel",
       "_view_count": null,
       "_view_module": "@jupyter-widgets/controls",
       "_view_module_version": "1.5.0",
       "_view_name": "HTMLView",
       "description": "",
       "description_tooltip": null,
       "layout": "IPY_MODEL_d6aeea9e88d944f59389a870cd8b71fe",
       "placeholder": "​",
       "style": "IPY_MODEL_a8d4988b1ed84c8ab9ef3e65b7e2ff95",
       "value": " 232k/232k [00:00&lt;00:00, 4.86MB/s]"
      }
     },
     "007af298379748baaa5506f545f94546": {
      "model_module": "@jupyter-widgets/controls",
      "model_module_version": "1.5.0",
      "model_name": "FloatProgressModel",
      "state": {
       "_dom_classes": [],
       "_model_module": "@jupyter-widgets/controls",
       "_model_module_version": "1.5.0",
       "_model_name": "FloatProgressModel",
       "_view_count": null,
       "_view_module": "@jupyter-widgets/controls",
       "_view_module_version": "1.5.0",
       "_view_name": "ProgressView",
       "bar_style": "success",
       "description": "",
       "description_tooltip": null,
       "layout": "IPY_MODEL_a75ab07bbca546ff98f6db0f1ae5864b",
       "max": 231508,
       "min": 0,
       "orientation": "horizontal",
       "style": "IPY_MODEL_dfcc8a155e464525b16ca7dc3cbdad93",
       "value": 231508
      }
     },
     "0831faf2f63641c9a4993409c3714168": {
      "model_module": "@jupyter-widgets/base",
      "model_module_version": "1.2.0",
      "model_name": "LayoutModel",
      "state": {
       "_model_module": "@jupyter-widgets/base",
       "_model_module_version": "1.2.0",
       "_model_name": "LayoutModel",
       "_view_count": null,
       "_view_module": "@jupyter-widgets/base",
       "_view_module_version": "1.2.0",
       "_view_name": "LayoutView",
       "align_content": null,
       "align_items": null,
       "align_self": null,
       "border": null,
       "bottom": null,
       "display": null,
       "flex": null,
       "flex_flow": null,
       "grid_area": null,
       "grid_auto_columns": null,
       "grid_auto_flow": null,
       "grid_auto_rows": null,
       "grid_column": null,
       "grid_gap": null,
       "grid_row": null,
       "grid_template_areas": null,
       "grid_template_columns": null,
       "grid_template_rows": null,
       "height": null,
       "justify_content": null,
       "justify_items": null,
       "left": null,
       "margin": null,
       "max_height": null,
       "max_width": null,
       "min_height": null,
       "min_width": null,
       "object_fit": null,
       "object_position": null,
       "order": null,
       "overflow": null,
       "overflow_x": null,
       "overflow_y": null,
       "padding": null,
       "right": null,
       "top": null,
       "visibility": null,
       "width": null
      }
     },
     "1584274467e24b6a9ee7caa5fa8e0088": {
      "model_module": "@jupyter-widgets/base",
      "model_module_version": "1.2.0",
      "model_name": "LayoutModel",
      "state": {
       "_model_module": "@jupyter-widgets/base",
       "_model_module_version": "1.2.0",
       "_model_name": "LayoutModel",
       "_view_count": null,
       "_view_module": "@jupyter-widgets/base",
       "_view_module_version": "1.2.0",
       "_view_name": "LayoutView",
       "align_content": null,
       "align_items": null,
       "align_self": null,
       "border": null,
       "bottom": null,
       "display": null,
       "flex": null,
       "flex_flow": null,
       "grid_area": null,
       "grid_auto_columns": null,
       "grid_auto_flow": null,
       "grid_auto_rows": null,
       "grid_column": null,
       "grid_gap": null,
       "grid_row": null,
       "grid_template_areas": null,
       "grid_template_columns": null,
       "grid_template_rows": null,
       "height": null,
       "justify_content": null,
       "justify_items": null,
       "left": null,
       "margin": null,
       "max_height": null,
       "max_width": null,
       "min_height": null,
       "min_width": null,
       "object_fit": null,
       "object_position": null,
       "order": null,
       "overflow": null,
       "overflow_x": null,
       "overflow_y": null,
       "padding": null,
       "right": null,
       "top": null,
       "visibility": null,
       "width": null
      }
     },
     "16e5edfb34c8453dac3f6482c08767ee": {
      "model_module": "@jupyter-widgets/controls",
      "model_module_version": "1.5.0",
      "model_name": "FloatProgressModel",
      "state": {
       "_dom_classes": [],
       "_model_module": "@jupyter-widgets/controls",
       "_model_module_version": "1.5.0",
       "_model_name": "FloatProgressModel",
       "_view_count": null,
       "_view_module": "@jupyter-widgets/controls",
       "_view_module_version": "1.5.0",
       "_view_name": "ProgressView",
       "bar_style": "success",
       "description": "",
       "description_tooltip": null,
       "layout": "IPY_MODEL_b9e9f0cfad5245a1a6cf0a924a200dcf",
       "max": 570,
       "min": 0,
       "orientation": "horizontal",
       "style": "IPY_MODEL_6df97dca7bef487c8803a4229e7d51b1",
       "value": 570
      }
     },
     "1bba9762445c4f0982f0fdc276def35b": {
      "model_module": "@jupyter-widgets/controls",
      "model_module_version": "1.5.0",
      "model_name": "ProgressStyleModel",
      "state": {
       "_model_module": "@jupyter-widgets/controls",
       "_model_module_version": "1.5.0",
       "_model_name": "ProgressStyleModel",
       "_view_count": null,
       "_view_module": "@jupyter-widgets/base",
       "_view_module_version": "1.2.0",
       "_view_name": "StyleView",
       "bar_color": null,
       "description_width": ""
      }
     },
     "24069d56e1dc47ccac9a8211e69ed0a1": {
      "model_module": "@jupyter-widgets/controls",
      "model_module_version": "1.5.0",
      "model_name": "DescriptionStyleModel",
      "state": {
       "_model_module": "@jupyter-widgets/controls",
       "_model_module_version": "1.5.0",
       "_model_name": "DescriptionStyleModel",
       "_view_count": null,
       "_view_module": "@jupyter-widgets/base",
       "_view_module_version": "1.2.0",
       "_view_name": "StyleView",
       "description_width": ""
      }
     },
     "27aa110fc8324552babf36fc5eb55c89": {
      "model_module": "@jupyter-widgets/base",
      "model_module_version": "1.2.0",
      "model_name": "LayoutModel",
      "state": {
       "_model_module": "@jupyter-widgets/base",
       "_model_module_version": "1.2.0",
       "_model_name": "LayoutModel",
       "_view_count": null,
       "_view_module": "@jupyter-widgets/base",
       "_view_module_version": "1.2.0",
       "_view_name": "LayoutView",
       "align_content": null,
       "align_items": null,
       "align_self": null,
       "border": null,
       "bottom": null,
       "display": null,
       "flex": null,
       "flex_flow": null,
       "grid_area": null,
       "grid_auto_columns": null,
       "grid_auto_flow": null,
       "grid_auto_rows": null,
       "grid_column": null,
       "grid_gap": null,
       "grid_row": null,
       "grid_template_areas": null,
       "grid_template_columns": null,
       "grid_template_rows": null,
       "height": null,
       "justify_content": null,
       "justify_items": null,
       "left": null,
       "margin": null,
       "max_height": null,
       "max_width": null,
       "min_height": null,
       "min_width": null,
       "object_fit": null,
       "object_position": null,
       "order": null,
       "overflow": null,
       "overflow_x": null,
       "overflow_y": null,
       "padding": null,
       "right": null,
       "top": null,
       "visibility": null,
       "width": null
      }
     },
     "44ce406578b44f80af83027a751d5274": {
      "model_module": "@jupyter-widgets/base",
      "model_module_version": "1.2.0",
      "model_name": "LayoutModel",
      "state": {
       "_model_module": "@jupyter-widgets/base",
       "_model_module_version": "1.2.0",
       "_model_name": "LayoutModel",
       "_view_count": null,
       "_view_module": "@jupyter-widgets/base",
       "_view_module_version": "1.2.0",
       "_view_name": "LayoutView",
       "align_content": null,
       "align_items": null,
       "align_self": null,
       "border": null,
       "bottom": null,
       "display": null,
       "flex": null,
       "flex_flow": null,
       "grid_area": null,
       "grid_auto_columns": null,
       "grid_auto_flow": null,
       "grid_auto_rows": null,
       "grid_column": null,
       "grid_gap": null,
       "grid_row": null,
       "grid_template_areas": null,
       "grid_template_columns": null,
       "grid_template_rows": null,
       "height": null,
       "justify_content": null,
       "justify_items": null,
       "left": null,
       "margin": null,
       "max_height": null,
       "max_width": null,
       "min_height": null,
       "min_width": null,
       "object_fit": null,
       "object_position": null,
       "order": null,
       "overflow": null,
       "overflow_x": null,
       "overflow_y": null,
       "padding": null,
       "right": null,
       "top": null,
       "visibility": null,
       "width": null
      }
     },
     "51e758c89bb7409c9e4a799ec200fed4": {
      "model_module": "@jupyter-widgets/controls",
      "model_module_version": "1.5.0",
      "model_name": "HTMLModel",
      "state": {
       "_dom_classes": [],
       "_model_module": "@jupyter-widgets/controls",
       "_model_module_version": "1.5.0",
       "_model_name": "HTMLModel",
       "_view_count": null,
       "_view_module": "@jupyter-widgets/controls",
       "_view_module_version": "1.5.0",
       "_view_name": "HTMLView",
       "description": "",
       "description_tooltip": null,
       "layout": "IPY_MODEL_df18d71e13544c27bc8cce7e94a74751",
       "placeholder": "​",
       "style": "IPY_MODEL_bc0cdbffe6704ebda31128a2078b086d",
       "value": "Downloading (…)solve/main/vocab.txt: 100%"
      }
     },
     "604972ec070d421280e375ffec089b12": {
      "model_module": "@jupyter-widgets/controls",
      "model_module_version": "1.5.0",
      "model_name": "DescriptionStyleModel",
      "state": {
       "_model_module": "@jupyter-widgets/controls",
       "_model_module_version": "1.5.0",
       "_model_name": "DescriptionStyleModel",
       "_view_count": null,
       "_view_module": "@jupyter-widgets/base",
       "_view_module_version": "1.2.0",
       "_view_name": "StyleView",
       "description_width": ""
      }
     },
     "6df97dca7bef487c8803a4229e7d51b1": {
      "model_module": "@jupyter-widgets/controls",
      "model_module_version": "1.5.0",
      "model_name": "ProgressStyleModel",
      "state": {
       "_model_module": "@jupyter-widgets/controls",
       "_model_module_version": "1.5.0",
       "_model_name": "ProgressStyleModel",
       "_view_count": null,
       "_view_module": "@jupyter-widgets/base",
       "_view_module_version": "1.2.0",
       "_view_name": "StyleView",
       "bar_color": null,
       "description_width": ""
      }
     },
     "74d7b8e7db8a40beadd9285f682fe395": {
      "model_module": "@jupyter-widgets/base",
      "model_module_version": "1.2.0",
      "model_name": "LayoutModel",
      "state": {
       "_model_module": "@jupyter-widgets/base",
       "_model_module_version": "1.2.0",
       "_model_name": "LayoutModel",
       "_view_count": null,
       "_view_module": "@jupyter-widgets/base",
       "_view_module_version": "1.2.0",
       "_view_name": "LayoutView",
       "align_content": null,
       "align_items": null,
       "align_self": null,
       "border": null,
       "bottom": null,
       "display": null,
       "flex": null,
       "flex_flow": null,
       "grid_area": null,
       "grid_auto_columns": null,
       "grid_auto_flow": null,
       "grid_auto_rows": null,
       "grid_column": null,
       "grid_gap": null,
       "grid_row": null,
       "grid_template_areas": null,
       "grid_template_columns": null,
       "grid_template_rows": null,
       "height": null,
       "justify_content": null,
       "justify_items": null,
       "left": null,
       "margin": null,
       "max_height": null,
       "max_width": null,
       "min_height": null,
       "min_width": null,
       "object_fit": null,
       "object_position": null,
       "order": null,
       "overflow": null,
       "overflow_x": null,
       "overflow_y": null,
       "padding": null,
       "right": null,
       "top": null,
       "visibility": null,
       "width": null
      }
     },
     "992de4fdc1c94ba9b6c984ddb9e63f87": {
      "model_module": "@jupyter-widgets/controls",
      "model_module_version": "1.5.0",
      "model_name": "HTMLModel",
      "state": {
       "_dom_classes": [],
       "_model_module": "@jupyter-widgets/controls",
       "_model_module_version": "1.5.0",
       "_model_name": "HTMLModel",
       "_view_count": null,
       "_view_module": "@jupyter-widgets/controls",
       "_view_module_version": "1.5.0",
       "_view_name": "HTMLView",
       "description": "",
       "description_tooltip": null,
       "layout": "IPY_MODEL_1584274467e24b6a9ee7caa5fa8e0088",
       "placeholder": "​",
       "style": "IPY_MODEL_24069d56e1dc47ccac9a8211e69ed0a1",
       "value": "Downloading (…)okenizer_config.json: 100%"
      }
     },
     "9db02beca49a46e0b1c0510c212b3581": {
      "model_module": "@jupyter-widgets/controls",
      "model_module_version": "1.5.0",
      "model_name": "DescriptionStyleModel",
      "state": {
       "_model_module": "@jupyter-widgets/controls",
       "_model_module_version": "1.5.0",
       "_model_name": "DescriptionStyleModel",
       "_view_count": null,
       "_view_module": "@jupyter-widgets/base",
       "_view_module_version": "1.2.0",
       "_view_name": "StyleView",
       "description_width": ""
      }
     },
     "a6eac37334ab459281ecb6318b246997": {
      "model_module": "@jupyter-widgets/base",
      "model_module_version": "1.2.0",
      "model_name": "LayoutModel",
      "state": {
       "_model_module": "@jupyter-widgets/base",
       "_model_module_version": "1.2.0",
       "_model_name": "LayoutModel",
       "_view_count": null,
       "_view_module": "@jupyter-widgets/base",
       "_view_module_version": "1.2.0",
       "_view_name": "LayoutView",
       "align_content": null,
       "align_items": null,
       "align_self": null,
       "border": null,
       "bottom": null,
       "display": null,
       "flex": null,
       "flex_flow": null,
       "grid_area": null,
       "grid_auto_columns": null,
       "grid_auto_flow": null,
       "grid_auto_rows": null,
       "grid_column": null,
       "grid_gap": null,
       "grid_row": null,
       "grid_template_areas": null,
       "grid_template_columns": null,
       "grid_template_rows": null,
       "height": null,
       "justify_content": null,
       "justify_items": null,
       "left": null,
       "margin": null,
       "max_height": null,
       "max_width": null,
       "min_height": null,
       "min_width": null,
       "object_fit": null,
       "object_position": null,
       "order": null,
       "overflow": null,
       "overflow_x": null,
       "overflow_y": null,
       "padding": null,
       "right": null,
       "top": null,
       "visibility": null,
       "width": null
      }
     },
     "a75ab07bbca546ff98f6db0f1ae5864b": {
      "model_module": "@jupyter-widgets/base",
      "model_module_version": "1.2.0",
      "model_name": "LayoutModel",
      "state": {
       "_model_module": "@jupyter-widgets/base",
       "_model_module_version": "1.2.0",
       "_model_name": "LayoutModel",
       "_view_count": null,
       "_view_module": "@jupyter-widgets/base",
       "_view_module_version": "1.2.0",
       "_view_name": "LayoutView",
       "align_content": null,
       "align_items": null,
       "align_self": null,
       "border": null,
       "bottom": null,
       "display": null,
       "flex": null,
       "flex_flow": null,
       "grid_area": null,
       "grid_auto_columns": null,
       "grid_auto_flow": null,
       "grid_auto_rows": null,
       "grid_column": null,
       "grid_gap": null,
       "grid_row": null,
       "grid_template_areas": null,
       "grid_template_columns": null,
       "grid_template_rows": null,
       "height": null,
       "justify_content": null,
       "justify_items": null,
       "left": null,
       "margin": null,
       "max_height": null,
       "max_width": null,
       "min_height": null,
       "min_width": null,
       "object_fit": null,
       "object_position": null,
       "order": null,
       "overflow": null,
       "overflow_x": null,
       "overflow_y": null,
       "padding": null,
       "right": null,
       "top": null,
       "visibility": null,
       "width": null
      }
     },
     "a8d4988b1ed84c8ab9ef3e65b7e2ff95": {
      "model_module": "@jupyter-widgets/controls",
      "model_module_version": "1.5.0",
      "model_name": "DescriptionStyleModel",
      "state": {
       "_model_module": "@jupyter-widgets/controls",
       "_model_module_version": "1.5.0",
       "_model_name": "DescriptionStyleModel",
       "_view_count": null,
       "_view_module": "@jupyter-widgets/base",
       "_view_module_version": "1.2.0",
       "_view_name": "StyleView",
       "description_width": ""
      }
     },
     "aad8c3db488a4c44a960f080d492a232": {
      "model_module": "@jupyter-widgets/base",
      "model_module_version": "1.2.0",
      "model_name": "LayoutModel",
      "state": {
       "_model_module": "@jupyter-widgets/base",
       "_model_module_version": "1.2.0",
       "_model_name": "LayoutModel",
       "_view_count": null,
       "_view_module": "@jupyter-widgets/base",
       "_view_module_version": "1.2.0",
       "_view_name": "LayoutView",
       "align_content": null,
       "align_items": null,
       "align_self": null,
       "border": null,
       "bottom": null,
       "display": null,
       "flex": null,
       "flex_flow": null,
       "grid_area": null,
       "grid_auto_columns": null,
       "grid_auto_flow": null,
       "grid_auto_rows": null,
       "grid_column": null,
       "grid_gap": null,
       "grid_row": null,
       "grid_template_areas": null,
       "grid_template_columns": null,
       "grid_template_rows": null,
       "height": null,
       "justify_content": null,
       "justify_items": null,
       "left": null,
       "margin": null,
       "max_height": null,
       "max_width": null,
       "min_height": null,
       "min_width": null,
       "object_fit": null,
       "object_position": null,
       "order": null,
       "overflow": null,
       "overflow_x": null,
       "overflow_y": null,
       "padding": null,
       "right": null,
       "top": null,
       "visibility": null,
       "width": null
      }
     },
     "b98e702c00e54ddaa982f4527dc5f027": {
      "model_module": "@jupyter-widgets/controls",
      "model_module_version": "1.5.0",
      "model_name": "HTMLModel",
      "state": {
       "_dom_classes": [],
       "_model_module": "@jupyter-widgets/controls",
       "_model_module_version": "1.5.0",
       "_model_name": "HTMLModel",
       "_view_count": null,
       "_view_module": "@jupyter-widgets/controls",
       "_view_module_version": "1.5.0",
       "_view_name": "HTMLView",
       "description": "",
       "description_tooltip": null,
       "layout": "IPY_MODEL_27aa110fc8324552babf36fc5eb55c89",
       "placeholder": "​",
       "style": "IPY_MODEL_604972ec070d421280e375ffec089b12",
       "value": "Downloading (…)lve/main/config.json: 100%"
      }
     },
     "b9e9f0cfad5245a1a6cf0a924a200dcf": {
      "model_module": "@jupyter-widgets/base",
      "model_module_version": "1.2.0",
      "model_name": "LayoutModel",
      "state": {
       "_model_module": "@jupyter-widgets/base",
       "_model_module_version": "1.2.0",
       "_model_name": "LayoutModel",
       "_view_count": null,
       "_view_module": "@jupyter-widgets/base",
       "_view_module_version": "1.2.0",
       "_view_name": "LayoutView",
       "align_content": null,
       "align_items": null,
       "align_self": null,
       "border": null,
       "bottom": null,
       "display": null,
       "flex": null,
       "flex_flow": null,
       "grid_area": null,
       "grid_auto_columns": null,
       "grid_auto_flow": null,
       "grid_auto_rows": null,
       "grid_column": null,
       "grid_gap": null,
       "grid_row": null,
       "grid_template_areas": null,
       "grid_template_columns": null,
       "grid_template_rows": null,
       "height": null,
       "justify_content": null,
       "justify_items": null,
       "left": null,
       "margin": null,
       "max_height": null,
       "max_width": null,
       "min_height": null,
       "min_width": null,
       "object_fit": null,
       "object_position": null,
       "order": null,
       "overflow": null,
       "overflow_x": null,
       "overflow_y": null,
       "padding": null,
       "right": null,
       "top": null,
       "visibility": null,
       "width": null
      }
     },
     "bc0cdbffe6704ebda31128a2078b086d": {
      "model_module": "@jupyter-widgets/controls",
      "model_module_version": "1.5.0",
      "model_name": "DescriptionStyleModel",
      "state": {
       "_model_module": "@jupyter-widgets/controls",
       "_model_module_version": "1.5.0",
       "_model_name": "DescriptionStyleModel",
       "_view_count": null,
       "_view_module": "@jupyter-widgets/base",
       "_view_module_version": "1.2.0",
       "_view_name": "StyleView",
       "description_width": ""
      }
     },
     "bfa86af9650849ffa4b4f56a245e05e0": {
      "model_module": "@jupyter-widgets/controls",
      "model_module_version": "1.5.0",
      "model_name": "HBoxModel",
      "state": {
       "_dom_classes": [],
       "_model_module": "@jupyter-widgets/controls",
       "_model_module_version": "1.5.0",
       "_model_name": "HBoxModel",
       "_view_count": null,
       "_view_module": "@jupyter-widgets/controls",
       "_view_module_version": "1.5.0",
       "_view_name": "HBoxView",
       "box_style": "",
       "children": [
        "IPY_MODEL_51e758c89bb7409c9e4a799ec200fed4",
        "IPY_MODEL_007af298379748baaa5506f545f94546",
        "IPY_MODEL_005f86665f1a4d5f8640ab99649d8d52"
       ],
       "layout": "IPY_MODEL_44ce406578b44f80af83027a751d5274"
      }
     },
     "d0293d08e167408182d248b3c1c146b0": {
      "model_module": "@jupyter-widgets/base",
      "model_module_version": "1.2.0",
      "model_name": "LayoutModel",
      "state": {
       "_model_module": "@jupyter-widgets/base",
       "_model_module_version": "1.2.0",
       "_model_name": "LayoutModel",
       "_view_count": null,
       "_view_module": "@jupyter-widgets/base",
       "_view_module_version": "1.2.0",
       "_view_name": "LayoutView",
       "align_content": null,
       "align_items": null,
       "align_self": null,
       "border": null,
       "bottom": null,
       "display": null,
       "flex": null,
       "flex_flow": null,
       "grid_area": null,
       "grid_auto_columns": null,
       "grid_auto_flow": null,
       "grid_auto_rows": null,
       "grid_column": null,
       "grid_gap": null,
       "grid_row": null,
       "grid_template_areas": null,
       "grid_template_columns": null,
       "grid_template_rows": null,
       "height": null,
       "justify_content": null,
       "justify_items": null,
       "left": null,
       "margin": null,
       "max_height": null,
       "max_width": null,
       "min_height": null,
       "min_width": null,
       "object_fit": null,
       "object_position": null,
       "order": null,
       "overflow": null,
       "overflow_x": null,
       "overflow_y": null,
       "padding": null,
       "right": null,
       "top": null,
       "visibility": null,
       "width": null
      }
     },
     "d6aeea9e88d944f59389a870cd8b71fe": {
      "model_module": "@jupyter-widgets/base",
      "model_module_version": "1.2.0",
      "model_name": "LayoutModel",
      "state": {
       "_model_module": "@jupyter-widgets/base",
       "_model_module_version": "1.2.0",
       "_model_name": "LayoutModel",
       "_view_count": null,
       "_view_module": "@jupyter-widgets/base",
       "_view_module_version": "1.2.0",
       "_view_name": "LayoutView",
       "align_content": null,
       "align_items": null,
       "align_self": null,
       "border": null,
       "bottom": null,
       "display": null,
       "flex": null,
       "flex_flow": null,
       "grid_area": null,
       "grid_auto_columns": null,
       "grid_auto_flow": null,
       "grid_auto_rows": null,
       "grid_column": null,
       "grid_gap": null,
       "grid_row": null,
       "grid_template_areas": null,
       "grid_template_columns": null,
       "grid_template_rows": null,
       "height": null,
       "justify_content": null,
       "justify_items": null,
       "left": null,
       "margin": null,
       "max_height": null,
       "max_width": null,
       "min_height": null,
       "min_width": null,
       "object_fit": null,
       "object_position": null,
       "order": null,
       "overflow": null,
       "overflow_x": null,
       "overflow_y": null,
       "padding": null,
       "right": null,
       "top": null,
       "visibility": null,
       "width": null
      }
     },
     "d89f086b903f48c1bbdc1d9c15233786": {
      "model_module": "@jupyter-widgets/controls",
      "model_module_version": "1.5.0",
      "model_name": "HTMLModel",
      "state": {
       "_dom_classes": [],
       "_model_module": "@jupyter-widgets/controls",
       "_model_module_version": "1.5.0",
       "_model_name": "HTMLModel",
       "_view_count": null,
       "_view_module": "@jupyter-widgets/controls",
       "_view_module_version": "1.5.0",
       "_view_name": "HTMLView",
       "description": "",
       "description_tooltip": null,
       "layout": "IPY_MODEL_0831faf2f63641c9a4993409c3714168",
       "placeholder": "​",
       "style": "IPY_MODEL_f700611e4ae342cca7b3c335891688d3",
       "value": " 28.0/28.0 [00:00&lt;00:00, 2.12kB/s]"
      }
     },
     "df18d71e13544c27bc8cce7e94a74751": {
      "model_module": "@jupyter-widgets/base",
      "model_module_version": "1.2.0",
      "model_name": "LayoutModel",
      "state": {
       "_model_module": "@jupyter-widgets/base",
       "_model_module_version": "1.2.0",
       "_model_name": "LayoutModel",
       "_view_count": null,
       "_view_module": "@jupyter-widgets/base",
       "_view_module_version": "1.2.0",
       "_view_name": "LayoutView",
       "align_content": null,
       "align_items": null,
       "align_self": null,
       "border": null,
       "bottom": null,
       "display": null,
       "flex": null,
       "flex_flow": null,
       "grid_area": null,
       "grid_auto_columns": null,
       "grid_auto_flow": null,
       "grid_auto_rows": null,
       "grid_column": null,
       "grid_gap": null,
       "grid_row": null,
       "grid_template_areas": null,
       "grid_template_columns": null,
       "grid_template_rows": null,
       "height": null,
       "justify_content": null,
       "justify_items": null,
       "left": null,
       "margin": null,
       "max_height": null,
       "max_width": null,
       "min_height": null,
       "min_width": null,
       "object_fit": null,
       "object_position": null,
       "order": null,
       "overflow": null,
       "overflow_x": null,
       "overflow_y": null,
       "padding": null,
       "right": null,
       "top": null,
       "visibility": null,
       "width": null
      }
     },
     "dfcc8a155e464525b16ca7dc3cbdad93": {
      "model_module": "@jupyter-widgets/controls",
      "model_module_version": "1.5.0",
      "model_name": "ProgressStyleModel",
      "state": {
       "_model_module": "@jupyter-widgets/controls",
       "_model_module_version": "1.5.0",
       "_model_name": "ProgressStyleModel",
       "_view_count": null,
       "_view_module": "@jupyter-widgets/base",
       "_view_module_version": "1.2.0",
       "_view_name": "StyleView",
       "bar_color": null,
       "description_width": ""
      }
     },
     "e2c3f0939ab043d1bdf35485cd76fae0": {
      "model_module": "@jupyter-widgets/controls",
      "model_module_version": "1.5.0",
      "model_name": "HBoxModel",
      "state": {
       "_dom_classes": [],
       "_model_module": "@jupyter-widgets/controls",
       "_model_module_version": "1.5.0",
       "_model_name": "HBoxModel",
       "_view_count": null,
       "_view_module": "@jupyter-widgets/controls",
       "_view_module_version": "1.5.0",
       "_view_name": "HBoxView",
       "box_style": "",
       "children": [
        "IPY_MODEL_992de4fdc1c94ba9b6c984ddb9e63f87",
        "IPY_MODEL_ee18f927913042bb85257fd81160497c",
        "IPY_MODEL_d89f086b903f48c1bbdc1d9c15233786"
       ],
       "layout": "IPY_MODEL_a6eac37334ab459281ecb6318b246997"
      }
     },
     "e58b9b8ac5024071990eae2ff58d9ef2": {
      "model_module": "@jupyter-widgets/controls",
      "model_module_version": "1.5.0",
      "model_name": "HTMLModel",
      "state": {
       "_dom_classes": [],
       "_model_module": "@jupyter-widgets/controls",
       "_model_module_version": "1.5.0",
       "_model_name": "HTMLModel",
       "_view_count": null,
       "_view_module": "@jupyter-widgets/controls",
       "_view_module_version": "1.5.0",
       "_view_name": "HTMLView",
       "description": "",
       "description_tooltip": null,
       "layout": "IPY_MODEL_aad8c3db488a4c44a960f080d492a232",
       "placeholder": "​",
       "style": "IPY_MODEL_9db02beca49a46e0b1c0510c212b3581",
       "value": " 570/570 [00:00&lt;00:00, 42.8kB/s]"
      }
     },
     "ee18f927913042bb85257fd81160497c": {
      "model_module": "@jupyter-widgets/controls",
      "model_module_version": "1.5.0",
      "model_name": "FloatProgressModel",
      "state": {
       "_dom_classes": [],
       "_model_module": "@jupyter-widgets/controls",
       "_model_module_version": "1.5.0",
       "_model_name": "FloatProgressModel",
       "_view_count": null,
       "_view_module": "@jupyter-widgets/controls",
       "_view_module_version": "1.5.0",
       "_view_name": "ProgressView",
       "bar_style": "success",
       "description": "",
       "description_tooltip": null,
       "layout": "IPY_MODEL_74d7b8e7db8a40beadd9285f682fe395",
       "max": 28,
       "min": 0,
       "orientation": "horizontal",
       "style": "IPY_MODEL_1bba9762445c4f0982f0fdc276def35b",
       "value": 28
      }
     },
     "f700611e4ae342cca7b3c335891688d3": {
      "model_module": "@jupyter-widgets/controls",
      "model_module_version": "1.5.0",
      "model_name": "DescriptionStyleModel",
      "state": {
       "_model_module": "@jupyter-widgets/controls",
       "_model_module_version": "1.5.0",
       "_model_name": "DescriptionStyleModel",
       "_view_count": null,
       "_view_module": "@jupyter-widgets/base",
       "_view_module_version": "1.2.0",
       "_view_name": "StyleView",
       "description_width": ""
      }
     },
     "fbedf4cca5ff4934b3e5c5862772b1c3": {
      "model_module": "@jupyter-widgets/controls",
      "model_module_version": "1.5.0",
      "model_name": "HBoxModel",
      "state": {
       "_dom_classes": [],
       "_model_module": "@jupyter-widgets/controls",
       "_model_module_version": "1.5.0",
       "_model_name": "HBoxModel",
       "_view_count": null,
       "_view_module": "@jupyter-widgets/controls",
       "_view_module_version": "1.5.0",
       "_view_name": "HBoxView",
       "box_style": "",
       "children": [
        "IPY_MODEL_b98e702c00e54ddaa982f4527dc5f027",
        "IPY_MODEL_16e5edfb34c8453dac3f6482c08767ee",
        "IPY_MODEL_e58b9b8ac5024071990eae2ff58d9ef2"
       ],
       "layout": "IPY_MODEL_d0293d08e167408182d248b3c1c146b0"
      }
     }
    },
    "version_major": 2,
    "version_minor": 0
   }
  }
 },
 "nbformat": 4,
 "nbformat_minor": 5
}
