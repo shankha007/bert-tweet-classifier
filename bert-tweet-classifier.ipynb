{
 "cells": [
  {
   "cell_type": "markdown",
   "id": "275019ca",
   "metadata": {
    "id": "rJZTF7UKXEMr",
    "papermill": {
     "duration": 0.008973,
     "end_time": "2023-08-14T18:09:15.942891",
     "exception": false,
     "start_time": "2023-08-14T18:09:15.933918",
     "status": "completed"
    },
    "tags": []
   },
   "source": [
    "RoBERTa model"
   ]
  },
  {
   "cell_type": "markdown",
   "id": "63345b04",
   "metadata": {
    "id": "jTYQb7wBFUrs",
    "papermill": {
     "duration": 0.007989,
     "end_time": "2023-08-14T18:09:15.959725",
     "exception": false,
     "start_time": "2023-08-14T18:09:15.951736",
     "status": "completed"
    },
    "tags": []
   },
   "source": [
    "**IMPORTS**\n",
    "\n",
    "---\n",
    "\n"
   ]
  },
  {
   "cell_type": "code",
   "execution_count": 1,
   "id": "8e35ef19",
   "metadata": {
    "execution": {
     "iopub.execute_input": "2023-08-14T18:09:15.978106Z",
     "iopub.status.busy": "2023-08-14T18:09:15.977738Z",
     "iopub.status.idle": "2023-08-14T18:09:52.661092Z",
     "shell.execute_reply": "2023-08-14T18:09:52.659828Z"
    },
    "executionInfo": {
     "elapsed": 14668,
     "status": "ok",
     "timestamp": 1690975146752,
     "user": {
      "displayName": "Sohan Choudhury",
      "userId": "03384336541033651196"
     },
     "user_tz": -330
    },
    "id": "kxYy-5Th_oOb",
    "outputId": "73a83a98-1d6f-433e-8b97-7fe1d728451f",
    "papermill": {
     "duration": 36.695705,
     "end_time": "2023-08-14T18:09:52.663846",
     "exception": false,
     "start_time": "2023-08-14T18:09:15.968141",
     "status": "completed"
    },
    "tags": []
   },
   "outputs": [
    {
     "name": "stdout",
     "output_type": "stream",
     "text": [
      "Requirement already satisfied: emoji in /opt/conda/lib/python3.10/site-packages (2.6.0)\r\n",
      "Requirement already satisfied: transformers in /opt/conda/lib/python3.10/site-packages (4.30.2)\r\n",
      "Requirement already satisfied: filelock in /opt/conda/lib/python3.10/site-packages (from transformers) (3.12.2)\r\n",
      "Requirement already satisfied: huggingface-hub<1.0,>=0.14.1 in /opt/conda/lib/python3.10/site-packages (from transformers) (0.16.4)\r\n",
      "Requirement already satisfied: numpy>=1.17 in /opt/conda/lib/python3.10/site-packages (from transformers) (1.23.5)\r\n",
      "Requirement already satisfied: packaging>=20.0 in /opt/conda/lib/python3.10/site-packages (from transformers) (21.3)\r\n",
      "Requirement already satisfied: pyyaml>=5.1 in /opt/conda/lib/python3.10/site-packages (from transformers) (6.0)\r\n",
      "Requirement already satisfied: regex!=2019.12.17 in /opt/conda/lib/python3.10/site-packages (from transformers) (2023.6.3)\r\n",
      "Requirement already satisfied: requests in /opt/conda/lib/python3.10/site-packages (from transformers) (2.31.0)\r\n",
      "Requirement already satisfied: tokenizers!=0.11.3,<0.14,>=0.11.1 in /opt/conda/lib/python3.10/site-packages (from transformers) (0.13.3)\r\n",
      "Requirement already satisfied: safetensors>=0.3.1 in /opt/conda/lib/python3.10/site-packages (from transformers) (0.3.1)\r\n",
      "Requirement already satisfied: tqdm>=4.27 in /opt/conda/lib/python3.10/site-packages (from transformers) (4.65.0)\r\n",
      "Requirement already satisfied: fsspec in /opt/conda/lib/python3.10/site-packages (from huggingface-hub<1.0,>=0.14.1->transformers) (2023.6.0)\r\n",
      "Requirement already satisfied: typing-extensions>=3.7.4.3 in /opt/conda/lib/python3.10/site-packages (from huggingface-hub<1.0,>=0.14.1->transformers) (4.6.3)\r\n",
      "Requirement already satisfied: pyparsing!=3.0.5,>=2.0.2 in /opt/conda/lib/python3.10/site-packages (from packaging>=20.0->transformers) (3.0.9)\r\n",
      "Requirement already satisfied: charset-normalizer<4,>=2 in /opt/conda/lib/python3.10/site-packages (from requests->transformers) (3.1.0)\r\n",
      "Requirement already satisfied: idna<4,>=2.5 in /opt/conda/lib/python3.10/site-packages (from requests->transformers) (3.4)\r\n",
      "Requirement already satisfied: urllib3<3,>=1.21.1 in /opt/conda/lib/python3.10/site-packages (from requests->transformers) (1.26.15)\r\n",
      "Requirement already satisfied: certifi>=2017.4.17 in /opt/conda/lib/python3.10/site-packages (from requests->transformers) (2023.5.7)\r\n",
      "Requirement already satisfied: gensim in /opt/conda/lib/python3.10/site-packages (4.3.1)\r\n",
      "Requirement already satisfied: numpy>=1.18.5 in /opt/conda/lib/python3.10/site-packages (from gensim) (1.23.5)\r\n",
      "Requirement already satisfied: scipy>=1.7.0 in /opt/conda/lib/python3.10/site-packages (from gensim) (1.11.1)\r\n",
      "Requirement already satisfied: smart-open>=1.8.1 in /opt/conda/lib/python3.10/site-packages (from gensim) (6.3.0)\r\n"
     ]
    }
   ],
   "source": [
    "#scripts\n",
    "!pip install emoji\n",
    "!pip install transformers\n",
    "!pip install gensim"
   ]
  },
  {
   "cell_type": "code",
   "execution_count": 2,
   "id": "d09fa750",
   "metadata": {
    "execution": {
     "iopub.execute_input": "2023-08-14T18:09:52.683419Z",
     "iopub.status.busy": "2023-08-14T18:09:52.683107Z",
     "iopub.status.idle": "2023-08-14T18:10:04.955089Z",
     "shell.execute_reply": "2023-08-14T18:10:04.954086Z"
    },
    "executionInfo": {
     "elapsed": 10,
     "status": "ok",
     "timestamp": 1690975146753,
     "user": {
      "displayName": "Sohan Choudhury",
      "userId": "03384336541033651196"
     },
     "user_tz": -330
    },
    "id": "dXcbxd-ko02e",
    "papermill": {
     "duration": 12.284546,
     "end_time": "2023-08-14T18:10:04.957679",
     "exception": false,
     "start_time": "2023-08-14T18:09:52.673133",
     "status": "completed"
    },
    "tags": []
   },
   "outputs": [
    {
     "name": "stderr",
     "output_type": "stream",
     "text": [
      "/opt/conda/lib/python3.10/site-packages/scipy/__init__.py:146: UserWarning: A NumPy version >=1.16.5 and <1.23.0 is required for this version of SciPy (detected version 1.23.5\n",
      "  warnings.warn(f\"A NumPy version >={np_minversion} and <{np_maxversion}\"\n",
      "/opt/conda/lib/python3.10/site-packages/tensorflow_io/python/ops/__init__.py:98: UserWarning: unable to load libtensorflow_io_plugins.so: unable to open file: libtensorflow_io_plugins.so, from paths: ['/opt/conda/lib/python3.10/site-packages/tensorflow_io/python/ops/libtensorflow_io_plugins.so']\n",
      "caused by: ['/opt/conda/lib/python3.10/site-packages/tensorflow_io/python/ops/libtensorflow_io_plugins.so: undefined symbol: _ZN3tsl6StatusC1EN10tensorflow5error4CodeESt17basic_string_viewIcSt11char_traitsIcEENS_14SourceLocationE']\n",
      "  warnings.warn(f\"unable to load libtensorflow_io_plugins.so: {e}\")\n",
      "/opt/conda/lib/python3.10/site-packages/tensorflow_io/python/ops/__init__.py:104: UserWarning: file system plugins are not loaded: unable to open file: libtensorflow_io.so, from paths: ['/opt/conda/lib/python3.10/site-packages/tensorflow_io/python/ops/libtensorflow_io.so']\n",
      "caused by: ['/opt/conda/lib/python3.10/site-packages/tensorflow_io/python/ops/libtensorflow_io.so: undefined symbol: _ZTVN10tensorflow13GcsFileSystemE']\n",
      "  warnings.warn(f\"file system plugins are not loaded: {e}\")\n"
     ]
    }
   ],
   "source": [
    "import pandas as pd\n",
    "import tensorflow as tf\n",
    "import numpy as np\n",
    "import emoji as emo\n",
    "import sys\n",
    "import re\n",
    "from transformers import BertTokenizer , BertConfig\n",
    "from sklearn.preprocessing import MultiLabelBinarizer #for binary encoding of labels\n",
    "from sklearn.model_selection import train_test_split\n",
    "import matplotlib.pyplot as plt\n",
    "import tensorflow_hub as hub\n",
    "from sklearn.metrics import classification_report\n",
    "import nltk\n",
    "from nltk.corpus import stopwords\n",
    "from gensim.parsing.preprocessing import remove_stopwords"
   ]
  },
  {
   "cell_type": "markdown",
   "id": "83d99dc0",
   "metadata": {
    "id": "RrO-L0lFusOB",
    "papermill": {
     "duration": 0.009058,
     "end_time": "2023-08-14T18:10:04.976338",
     "exception": false,
     "start_time": "2023-08-14T18:10:04.967280",
     "status": "completed"
    },
    "tags": []
   },
   "source": [
    "**DATASET AND LABEL ONE-HOT ENCODING**\n",
    "\n",
    "---\n",
    "\n"
   ]
  },
  {
   "cell_type": "code",
   "execution_count": 3,
   "id": "a08f20cd",
   "metadata": {
    "execution": {
     "iopub.execute_input": "2023-08-14T18:10:04.995502Z",
     "iopub.status.busy": "2023-08-14T18:10:04.994350Z",
     "iopub.status.idle": "2023-08-14T18:10:05.163714Z",
     "shell.execute_reply": "2023-08-14T18:10:05.162522Z"
    },
    "executionInfo": {
     "elapsed": 10,
     "status": "ok",
     "timestamp": 1690975146754,
     "user": {
      "displayName": "Sohan Choudhury",
      "userId": "03384336541033651196"
     },
     "user_tz": -330
    },
    "id": "FMe2OHBzsRoT",
    "outputId": "1a360687-b2e8-461c-ebd5-2977b5b73665",
    "papermill": {
     "duration": 0.181449,
     "end_time": "2023-08-14T18:10:05.166351",
     "exception": false,
     "start_time": "2023-08-14T18:10:04.984902",
     "status": "completed"
    },
    "tags": []
   },
   "outputs": [
    {
     "data": {
      "text/html": [
       "<div>\n",
       "<style scoped>\n",
       "    .dataframe tbody tr th:only-of-type {\n",
       "        vertical-align: middle;\n",
       "    }\n",
       "\n",
       "    .dataframe tbody tr th {\n",
       "        vertical-align: top;\n",
       "    }\n",
       "\n",
       "    .dataframe thead th {\n",
       "        text-align: right;\n",
       "    }\n",
       "</style>\n",
       "<table border=\"1\" class=\"dataframe\">\n",
       "  <thead>\n",
       "    <tr style=\"text-align: right;\">\n",
       "      <th></th>\n",
       "      <th>id</th>\n",
       "      <th>tweet</th>\n",
       "    </tr>\n",
       "  </thead>\n",
       "  <tbody>\n",
       "    <tr>\n",
       "      <th>0</th>\n",
       "      <td>1070378532260470789t</td>\n",
       "      <td>Study Links HPV Vaccine to Historically High I...</td>\n",
       "    </tr>\n",
       "    <tr>\n",
       "      <th>1</th>\n",
       "      <td>973746711964372993t</td>\n",
       "      <td>Deaths from tainted measles vaccine affecting ...</td>\n",
       "    </tr>\n",
       "    <tr>\n",
       "      <th>2</th>\n",
       "      <td>1043031076787040257t</td>\n",
       "      <td>Am apreciat un videoclip pe @YouTube, https://...</td>\n",
       "    </tr>\n",
       "    <tr>\n",
       "      <th>3</th>\n",
       "      <td>1066338147527741440t</td>\n",
       "      <td>VIDEO --&amp;gt;&amp;gt; MMR #Vaccine increase risk of...</td>\n",
       "    </tr>\n",
       "    <tr>\n",
       "      <th>4</th>\n",
       "      <td>963522018544152576t</td>\n",
       "      <td>Oral Polio Vaccine: Infecting Unvaccinated Kid...</td>\n",
       "    </tr>\n",
       "  </tbody>\n",
       "</table>\n",
       "</div>"
      ],
      "text/plain": [
       "                     id                                              tweet\n",
       "0  1070378532260470789t  Study Links HPV Vaccine to Historically High I...\n",
       "1   973746711964372993t  Deaths from tainted measles vaccine affecting ...\n",
       "2  1043031076787040257t  Am apreciat un videoclip pe @YouTube, https://...\n",
       "3  1066338147527741440t  VIDEO --&gt;&gt; MMR #Vaccine increase risk of...\n",
       "4   963522018544152576t  Oral Polio Vaccine: Infecting Unvaccinated Kid..."
      ]
     },
     "execution_count": 3,
     "metadata": {},
     "output_type": "execute_result"
    }
   ],
   "source": [
    "path_train = '/kaggle/input/vaccine/val_train.csv'\n",
    "path_test = '/kaggle/input/testdata/test.csv'\n",
    "ds = pd.read_csv(path_train)\n",
    "tds = pd.read_csv(path_test)\n",
    "\n",
    "#converting label strings into set\n",
    "lst = ds['labels'].to_list()\n",
    "labels = [[label] for label in lst]\n",
    "def sep(target):\n",
    "    return target[0].split()\n",
    "\n",
    "seplabels = [sep(label) for label in labels]\n",
    "#one-hot encoding\n",
    "mlb = MultiLabelBinarizer()\n",
    "labels = mlb.fit_transform(seplabels)\n",
    "label_array = np.array(labels)\n",
    "tds.head()"
   ]
  },
  {
   "cell_type": "markdown",
   "id": "c0cb1670",
   "metadata": {
    "id": "Gnme7J1cJGmD",
    "papermill": {
     "duration": 0.009611,
     "end_time": "2023-08-14T18:10:05.186545",
     "exception": false,
     "start_time": "2023-08-14T18:10:05.176934",
     "status": "completed"
    },
    "tags": []
   },
   "source": [
    "## **PRE PROCESSING**\n",
    "\n",
    "---\n",
    "\n",
    "\n"
   ]
  },
  {
   "cell_type": "code",
   "execution_count": 4,
   "id": "6f514d6c",
   "metadata": {
    "execution": {
     "iopub.execute_input": "2023-08-14T18:10:05.206927Z",
     "iopub.status.busy": "2023-08-14T18:10:05.205941Z",
     "iopub.status.idle": "2023-08-14T18:10:09.388285Z",
     "shell.execute_reply": "2023-08-14T18:10:09.387182Z"
    },
    "executionInfo": {
     "elapsed": 3208,
     "status": "ok",
     "timestamp": 1690975149955,
     "user": {
      "displayName": "Sohan Choudhury",
      "userId": "03384336541033651196"
     },
     "user_tz": -330
    },
    "id": "X3V_8SvTH7mw",
    "papermill": {
     "duration": 4.195381,
     "end_time": "2023-08-14T18:10:09.391172",
     "exception": false,
     "start_time": "2023-08-14T18:10:05.195791",
     "status": "completed"
    },
    "tags": []
   },
   "outputs": [],
   "source": [
    "def proc(tweet):\n",
    "    tweet = tweet.lower()\n",
    "    tweet = emo.demojize(tweet) #emoji to string\n",
    "    tweet = re.sub(r\"http[s]?://t.co/[a-zA-Z0-9]+\" , \"\" , tweet)  #https twitter link removal\n",
    "    tweet = re.sub(r\"[!\\\"#\\$%&\\'\\(\\)\\*\\+,-\\./:;<=>\\?@\\[\\\\\\]\\^_`{\\|}~]\" , \"\" , tweet) #unwanted expressions\n",
    "    return(tweet)\n",
    "\n",
    "tweets = ds['tweet'].apply(proc).tolist() #training data list\n",
    "tests = tds['tweet'].apply(proc).tolist() #test data list\n",
    "\n",
    "\n",
    "\n",
    "\n"
   ]
  },
  {
   "cell_type": "code",
   "execution_count": 5,
   "id": "a513ecfe",
   "metadata": {
    "execution": {
     "iopub.execute_input": "2023-08-14T18:10:09.414630Z",
     "iopub.status.busy": "2023-08-14T18:10:09.414265Z",
     "iopub.status.idle": "2023-08-14T18:10:09.421160Z",
     "shell.execute_reply": "2023-08-14T18:10:09.420171Z"
    },
    "executionInfo": {
     "elapsed": 4,
     "status": "ok",
     "timestamp": 1690975149955,
     "user": {
      "displayName": "Sohan Choudhury",
      "userId": "03384336541033651196"
     },
     "user_tz": -330
    },
    "id": "50NRf12vL0fS",
    "outputId": "ca82f2d1-98dd-4878-fc15-e7495f037bf5",
    "papermill": {
     "duration": 0.020562,
     "end_time": "2023-08-14T18:10:09.423604",
     "exception": false,
     "start_time": "2023-08-14T18:10:09.403042",
     "status": "completed"
    },
    "tags": []
   },
   "outputs": [
    {
     "data": {
      "text/plain": [
       "12"
      ]
     },
     "execution_count": 5,
     "metadata": {},
     "output_type": "execute_result"
    }
   ],
   "source": [
    "num_classes = len(mlb.classes_)\n",
    "num_classes"
   ]
  },
  {
   "cell_type": "code",
   "execution_count": 6,
   "id": "358076f9",
   "metadata": {
    "execution": {
     "iopub.execute_input": "2023-08-14T18:10:09.446030Z",
     "iopub.status.busy": "2023-08-14T18:10:09.445718Z",
     "iopub.status.idle": "2023-08-14T18:10:31.208640Z",
     "shell.execute_reply": "2023-08-14T18:10:31.207418Z"
    },
    "executionInfo": {
     "elapsed": 6362,
     "status": "ok",
     "timestamp": 1690975156314,
     "user": {
      "displayName": "Sohan Choudhury",
      "userId": "03384336541033651196"
     },
     "user_tz": -330
    },
    "id": "fhNfU0uvaqsy",
    "papermill": {
     "duration": 21.777472,
     "end_time": "2023-08-14T18:10:31.211678",
     "exception": false,
     "start_time": "2023-08-14T18:10:09.434206",
     "status": "completed"
    },
    "tags": []
   },
   "outputs": [
    {
     "data": {
      "application/vnd.jupyter.widget-view+json": {
       "model_id": "bfa86af9650849ffa4b4f56a245e05e0",
       "version_major": 2,
       "version_minor": 0
      },
      "text/plain": [
       "Downloading (…)solve/main/vocab.txt:   0%|          | 0.00/232k [00:00<?, ?B/s]"
      ]
     },
     "metadata": {},
     "output_type": "display_data"
    },
    {
     "data": {
      "application/vnd.jupyter.widget-view+json": {
       "model_id": "e2c3f0939ab043d1bdf35485cd76fae0",
       "version_major": 2,
       "version_minor": 0
      },
      "text/plain": [
       "Downloading (…)okenizer_config.json:   0%|          | 0.00/28.0 [00:00<?, ?B/s]"
      ]
     },
     "metadata": {},
     "output_type": "display_data"
    },
    {
     "data": {
      "application/vnd.jupyter.widget-view+json": {
       "model_id": "fbedf4cca5ff4934b3e5c5862772b1c3",
       "version_major": 2,
       "version_minor": 0
      },
      "text/plain": [
       "Downloading (…)lve/main/config.json:   0%|          | 0.00/570 [00:00<?, ?B/s]"
      ]
     },
     "metadata": {},
     "output_type": "display_data"
    }
   ],
   "source": [
    "\n",
    "tok = BertTokenizer.from_pretrained('bert-base-uncased')\n",
    "tweet_encoded_training = tok(tweets , padding='max_length' , truncation=True , max_length = 150 , return_tensors='tf')\n",
    "tweet_encoded_test = tok(tests , padding='max_length', truncation = True , max_length = 150 , return_tensors='tf')\n",
    "\n",
    "x_train = {\n",
    "    'input_word_ids':tweet_encoded_training['input_ids'],\n",
    "    'input_mask': tweet_encoded_training['attention_mask'],\n",
    "    'input_type_ids': tweet_encoded_training['token_type_ids']\n",
    "}\n",
    "\n",
    "x_test = {\n",
    "    'input_word_ids': tweet_encoded_test['input_ids'],\n",
    "    'input_mask': tweet_encoded_test['attention_mask'],\n",
    "    'input_type_ids': tweet_encoded_test['token_type_ids']\n",
    "}\n",
    "\n"
   ]
  },
  {
   "cell_type": "markdown",
   "id": "eeab6e0a",
   "metadata": {
    "id": "NXiI6RceGLry",
    "papermill": {
     "duration": 0.009936,
     "end_time": "2023-08-14T18:10:31.232555",
     "exception": false,
     "start_time": "2023-08-14T18:10:31.222619",
     "status": "completed"
    },
    "tags": []
   },
   "source": [
    "**TRAIN_TEST_SPLIT AND CONVERTING TO DICTIONARY WITH INPUTS**\n",
    "\n",
    "---\n",
    "\n"
   ]
  },
  {
   "cell_type": "code",
   "execution_count": 7,
   "id": "05ae1b35",
   "metadata": {
    "execution": {
     "iopub.execute_input": "2023-08-14T18:10:31.254813Z",
     "iopub.status.busy": "2023-08-14T18:10:31.254446Z",
     "iopub.status.idle": "2023-08-14T18:10:39.918695Z",
     "shell.execute_reply": "2023-08-14T18:10:39.917559Z"
    },
    "executionInfo": {
     "elapsed": 15711,
     "status": "ok",
     "timestamp": 1690975172022,
     "user": {
      "displayName": "Sohan Choudhury",
      "userId": "03384336541033651196"
     },
     "user_tz": -330
    },
    "id": "O7Gu_ax3CmUo",
    "outputId": "2a69d04a-d996-4e95-ccdf-86f8dfccba8a",
    "papermill": {
     "duration": 8.677972,
     "end_time": "2023-08-14T18:10:39.921038",
     "exception": false,
     "start_time": "2023-08-14T18:10:31.243066",
     "status": "completed"
    },
    "tags": []
   },
   "outputs": [
    {
     "data": {
      "text/plain": [
       "(1985, 12)"
      ]
     },
     "execution_count": 7,
     "metadata": {},
     "output_type": "execute_result"
    }
   ],
   "source": [
    "data_list = [({'input_word_ids': x_train['input_word_ids'][i],\n",
    "               'input_mask': x_train['input_mask'][i],\n",
    "               'segment_ids': x_train['input_type_ids'][i]}, label) for i, label in enumerate(label_array)]\n",
    "\n",
    "train_list, val_list = train_test_split(data_list, test_size=0.2, random_state=42)\n",
    "\n",
    "train_x = {'input_word_ids': np.array([elem[0]['input_word_ids'] for elem in train_list]),\n",
    "           'input_mask': np.array([elem[0]['input_mask'] for elem in train_list]),\n",
    "           'input_type_ids': np.array([elem[0]['segment_ids'] for elem in train_list])}\n",
    "\n",
    "val_x = {'input_word_ids': np.array([elem[0]['input_word_ids'] for elem in val_list]),\n",
    "         'input_mask': np.array([elem[0]['input_mask'] for elem in val_list]),\n",
    "         'input_type_ids': np.array([elem[0]['segment_ids'] for elem in val_list])}\n",
    "\n",
    "train_labels = np.array([elem[1] for elem in train_list])\n",
    "val_labels = np.array([elem[1] for elem in val_list])\n",
    "val_labels.shape"
   ]
  },
  {
   "cell_type": "code",
   "execution_count": 8,
   "id": "30834522",
   "metadata": {
    "execution": {
     "iopub.execute_input": "2023-08-14T18:10:39.943663Z",
     "iopub.status.busy": "2023-08-14T18:10:39.943327Z",
     "iopub.status.idle": "2023-08-14T18:10:39.952503Z",
     "shell.execute_reply": "2023-08-14T18:10:39.951586Z"
    },
    "executionInfo": {
     "elapsed": 5,
     "status": "ok",
     "timestamp": 1690975172023,
     "user": {
      "displayName": "Sohan Choudhury",
      "userId": "03384336541033651196"
     },
     "user_tz": -330
    },
    "id": "HhUh4dP_S8_4",
    "papermill": {
     "duration": 0.022925,
     "end_time": "2023-08-14T18:10:39.954735",
     "exception": false,
     "start_time": "2023-08-14T18:10:39.931810",
     "status": "completed"
    },
    "tags": []
   },
   "outputs": [],
   "source": [
    "tf.keras.backend.clear_session()"
   ]
  },
  {
   "cell_type": "markdown",
   "id": "04f17a90",
   "metadata": {
    "id": "kNgtIQIaUTGu",
    "papermill": {
     "duration": 0.010213,
     "end_time": "2023-08-14T18:10:39.975712",
     "exception": false,
     "start_time": "2023-08-14T18:10:39.965499",
     "status": "completed"
    },
    "tags": []
   },
   "source": [
    "**MODEL**\n",
    "\n",
    "---\n",
    "\n"
   ]
  },
  {
   "cell_type": "code",
   "execution_count": 9,
   "id": "9f1a6e22",
   "metadata": {
    "execution": {
     "iopub.execute_input": "2023-08-14T18:10:39.998241Z",
     "iopub.status.busy": "2023-08-14T18:10:39.997363Z",
     "iopub.status.idle": "2023-08-14T18:10:50.988899Z",
     "shell.execute_reply": "2023-08-14T18:10:50.987866Z"
    },
    "executionInfo": {
     "elapsed": 12092,
     "status": "ok",
     "timestamp": 1690975184111,
     "user": {
      "displayName": "Sohan Choudhury",
      "userId": "03384336541033651196"
     },
     "user_tz": -330
    },
    "id": "hBmeLnhnxk4T",
    "papermill": {
     "duration": 11.005207,
     "end_time": "2023-08-14T18:10:50.991260",
     "exception": false,
     "start_time": "2023-08-14T18:10:39.986053",
     "status": "completed"
    },
    "tags": []
   },
   "outputs": [],
   "source": [
    "module_url = 'https://tfhub.dev/tensorflow/bert_en_uncased_L-12_H-768_A-12/2'\n",
    "bert_layer = hub.KerasLayer(module_url, trainable=True)\n",
    "max_len = 150"
   ]
  },
  {
   "cell_type": "code",
   "execution_count": 10,
   "id": "9f4f9838",
   "metadata": {
    "execution": {
     "iopub.execute_input": "2023-08-14T18:10:51.012557Z",
     "iopub.status.busy": "2023-08-14T18:10:51.012201Z",
     "iopub.status.idle": "2023-08-14T18:10:51.021783Z",
     "shell.execute_reply": "2023-08-14T18:10:51.020924Z"
    },
    "executionInfo": {
     "elapsed": 10,
     "status": "ok",
     "timestamp": 1690975184111,
     "user": {
      "displayName": "Sohan Choudhury",
      "userId": "03384336541033651196"
     },
     "user_tz": -330
    },
    "id": "bTEc8IrYaEdO",
    "papermill": {
     "duration": 0.02244,
     "end_time": "2023-08-14T18:10:51.024023",
     "exception": false,
     "start_time": "2023-08-14T18:10:51.001583",
     "status": "completed"
    },
    "tags": []
   },
   "outputs": [],
   "source": [
    "tf.keras.backend.clear_session()"
   ]
  },
  {
   "cell_type": "code",
   "execution_count": 11,
   "id": "03bdc83f",
   "metadata": {
    "execution": {
     "iopub.execute_input": "2023-08-14T18:10:51.044496Z",
     "iopub.status.busy": "2023-08-14T18:10:51.044215Z",
     "iopub.status.idle": "2023-08-14T18:10:51.916142Z",
     "shell.execute_reply": "2023-08-14T18:10:51.915290Z"
    },
    "executionInfo": {
     "elapsed": 9626,
     "status": "ok",
     "timestamp": 1690975193728,
     "user": {
      "displayName": "Sohan Choudhury",
      "userId": "03384336541033651196"
     },
     "user_tz": -330
    },
    "id": "xkzAvN3ICPcX",
    "outputId": "6feed225-4654-4485-ab3c-da9269ca5c5d",
    "papermill": {
     "duration": 0.889572,
     "end_time": "2023-08-14T18:10:51.923155",
     "exception": false,
     "start_time": "2023-08-14T18:10:51.033583",
     "status": "completed"
    },
    "tags": []
   },
   "outputs": [
    {
     "name": "stdout",
     "output_type": "stream",
     "text": [
      "Model: \"model\"\n",
      "__________________________________________________________________________________________________\n",
      " Layer (type)                   Output Shape         Param #     Connected to                     \n",
      "==================================================================================================\n",
      " input_ids (InputLayer)         [(None, 150)]        0           []                               \n",
      "                                                                                                  \n",
      " attention_mask (InputLayer)    [(None, 150)]        0           []                               \n",
      "                                                                                                  \n",
      " segment_ids (InputLayer)       [(None, 150)]        0           []                               \n",
      "                                                                                                  \n",
      " keras_layer (KerasLayer)       [(None, 768),        109482241   ['input_ids[0][0]',              \n",
      "                                 (None, 150, 768)]                'attention_mask[0][0]',         \n",
      "                                                                  'segment_ids[0][0]']            \n",
      "                                                                                                  \n",
      " dense (Dense)                  (None, 128)          98432       ['keras_layer[0][0]']            \n",
      "                                                                                                  \n",
      " dropout (Dropout)              (None, 128)          0           ['dense[0][0]']                  \n",
      "                                                                                                  \n",
      " dense_1 (Dense)                (None, 64)           8256        ['dropout[0][0]']                \n",
      "                                                                                                  \n",
      " dropout_1 (Dropout)            (None, 64)           0           ['dense_1[0][0]']                \n",
      "                                                                                                  \n",
      " output (Dense)                 (None, 12)           780         ['dropout_1[0][0]']              \n",
      "                                                                                                  \n",
      "==================================================================================================\n",
      "Total params: 109,589,709\n",
      "Trainable params: 109,589,708\n",
      "Non-trainable params: 1\n",
      "__________________________________________________________________________________________________\n"
     ]
    }
   ],
   "source": [
    "def build_model(num_classes):\n",
    "    input_word_ids = tf.keras.Input(shape=(max_len,), dtype=tf.int32, name=\"input_ids\")\n",
    "    input_mask = tf.keras.Input(shape=(max_len,), dtype=tf.int32, name=\"attention_mask\")\n",
    "    segment_ids = tf.keras.Input(shape=(max_len,), dtype=tf.int32, name=\"segment_ids\")\n",
    "\n",
    "    pooled_output , sequence_output = bert_layer([input_word_ids , input_mask , segment_ids])\n",
    "    dense = tf.keras.layers.Dense(128, activation='relu')(pooled_output)\n",
    "    drop = tf.keras.layers.Dropout(0.1)(dense)\n",
    "    dense2 = tf.keras.layers.Dense(64 , activation='relu')(drop)\n",
    "    drop2 = tf.keras.layers.Dropout(0.1)(dense2)\n",
    "    output = tf.keras.layers.Dense(num_classes , activation = 'sigmoid' , name = 'output')(drop2)\n",
    "\n",
    "    model = tf.keras.Model(inputs = {\n",
    "        'input_word_ids' : input_word_ids,\n",
    "        'input_mask': input_mask,\n",
    "        'input_type_ids': segment_ids\n",
    "    }, outputs = output)\n",
    "\n",
    "    return model\n",
    "\n",
    "num_classes = 12\n",
    "model = build_model(num_classes)\n",
    "model.compile(optimizer = tf.keras.optimizers.Adam(learning_rate = 1e-6),\n",
    "              loss = tf.keras.losses.BinaryCrossentropy(),\n",
    "              metrics = 'accuracy')\n",
    "\n",
    "model.summary()"
   ]
  },
  {
   "cell_type": "code",
   "execution_count": 12,
   "id": "e8e82861",
   "metadata": {
    "execution": {
     "iopub.execute_input": "2023-08-14T18:10:51.953190Z",
     "iopub.status.busy": "2023-08-14T18:10:51.951943Z",
     "iopub.status.idle": "2023-08-14T18:10:51.961761Z",
     "shell.execute_reply": "2023-08-14T18:10:51.960655Z"
    },
    "executionInfo": {
     "elapsed": 4,
     "status": "ok",
     "timestamp": 1690975193728,
     "user": {
      "displayName": "Sohan Choudhury",
      "userId": "03384336541033651196"
     },
     "user_tz": -330
    },
    "id": "8e_dzozX8q8V",
    "papermill": {
     "duration": 0.028204,
     "end_time": "2023-08-14T18:10:51.964321",
     "exception": false,
     "start_time": "2023-08-14T18:10:51.936117",
     "status": "completed"
    },
    "tags": []
   },
   "outputs": [],
   "source": [
    "tf.keras.backend.clear_session()"
   ]
  },
  {
   "cell_type": "markdown",
   "id": "60dfcd7c",
   "metadata": {
    "id": "2jzwPdDJXZOG",
    "papermill": {
     "duration": 0.011861,
     "end_time": "2023-08-14T18:10:51.988844",
     "exception": false,
     "start_time": "2023-08-14T18:10:51.976983",
     "status": "completed"
    },
    "tags": []
   },
   "source": [
    "**TRAINING**\n",
    "\n",
    "---\n",
    "\n"
   ]
  },
  {
   "cell_type": "code",
   "execution_count": 13,
   "id": "7962e5ed",
   "metadata": {
    "execution": {
     "iopub.execute_input": "2023-08-14T18:10:52.013395Z",
     "iopub.status.busy": "2023-08-14T18:10:52.013122Z",
     "iopub.status.idle": "2023-08-14T18:26:15.812747Z",
     "shell.execute_reply": "2023-08-14T18:26:15.811462Z"
    },
    "executionInfo": {
     "elapsed": 667045,
     "status": "error",
     "timestamp": 1690975860770,
     "user": {
      "displayName": "Sohan Choudhury",
      "userId": "03384336541033651196"
     },
     "user_tz": -330
    },
    "id": "KA3Fk33cKKQb",
    "outputId": "385ec91c-a24e-4413-a896-9831381d444b",
    "papermill": {
     "duration": 923.902601,
     "end_time": "2023-08-14T18:26:15.903329",
     "exception": false,
     "start_time": "2023-08-14T18:10:52.000728",
     "status": "completed"
    },
    "tags": []
   },
   "outputs": [
    {
     "name": "stdout",
     "output_type": "stream",
     "text": [
      "Epoch 1/3\n",
      "496/496 [==============================] - 348s 603ms/step - loss: 0.5044 - accuracy: 0.1942 - val_loss: 0.3736 - val_accuracy: 0.2952\n",
      "Epoch 2/3\n",
      "496/496 [==============================] - 279s 563ms/step - loss: 0.3676 - accuracy: 0.2281 - val_loss: 0.3062 - val_accuracy: 0.2997\n",
      "Epoch 3/3\n",
      "496/496 [==============================] - 296s 597ms/step - loss: 0.3317 - accuracy: 0.2579 - val_loss: 0.2878 - val_accuracy: 0.3254\n"
     ]
    }
   ],
   "source": [
    "model.fit(train_x , train_labels , validation_data=(val_x , val_labels) , epochs=3, batch_size=16)\n",
    "#clear GPU memory\n",
    "tf.keras.backend.clear_session()"
   ]
  },
  {
   "cell_type": "code",
   "execution_count": 14,
   "id": "db3aa8a5",
   "metadata": {
    "execution": {
     "iopub.execute_input": "2023-08-14T18:26:16.207208Z",
     "iopub.status.busy": "2023-08-14T18:26:16.205333Z",
     "iopub.status.idle": "2023-08-14T18:26:27.158718Z",
     "shell.execute_reply": "2023-08-14T18:26:27.157583Z"
    },
    "executionInfo": {
     "elapsed": 9,
     "status": "aborted",
     "timestamp": 1690975860771,
     "user": {
      "displayName": "Sohan Choudhury",
      "userId": "03384336541033651196"
     },
     "user_tz": -330
    },
    "id": "F1XpLrqBRrDg",
    "papermill": {
     "duration": 11.128899,
     "end_time": "2023-08-14T18:26:27.161812",
     "exception": false,
     "start_time": "2023-08-14T18:26:16.032913",
     "status": "completed"
    },
    "tags": []
   },
   "outputs": [
    {
     "name": "stdout",
     "output_type": "stream",
     "text": [
      "16/16 [==============================] - 6s 330ms/step\n"
     ]
    }
   ],
   "source": [
    "output = model.predict(x_test)\n"
   ]
  },
  {
   "cell_type": "markdown",
   "id": "5ddc184c",
   "metadata": {
    "id": "45krjuWFbvoO",
    "papermill": {
     "duration": 0.125362,
     "end_time": "2023-08-14T18:26:27.417849",
     "exception": false,
     "start_time": "2023-08-14T18:26:27.292487",
     "status": "completed"
    },
    "tags": []
   },
   "source": [
    "output/metrics"
   ]
  },
  {
   "cell_type": "code",
   "execution_count": 15,
   "id": "6005f725",
   "metadata": {
    "execution": {
     "iopub.execute_input": "2023-08-14T18:26:27.674048Z",
     "iopub.status.busy": "2023-08-14T18:26:27.673332Z",
     "iopub.status.idle": "2023-08-14T18:26:27.683306Z",
     "shell.execute_reply": "2023-08-14T18:26:27.682342Z"
    },
    "executionInfo": {
     "elapsed": 9,
     "status": "aborted",
     "timestamp": 1690975860771,
     "user": {
      "displayName": "Sohan Choudhury",
      "userId": "03384336541033651196"
     },
     "user_tz": -330
    },
    "id": "m9UCe-a0XnAq",
    "papermill": {
     "duration": 0.141194,
     "end_time": "2023-08-14T18:26:27.685515",
     "exception": false,
     "start_time": "2023-08-14T18:26:27.544321",
     "status": "completed"
    },
    "tags": []
   },
   "outputs": [],
   "source": [
    "pred = (output > 0.25).astype(int)\n",
    "\n",
    "all_labels = mlb.classes_\n",
    "pred_list = mlb.inverse_transform(pred)\n",
    "ids = tds['id']\n",
    "#for choosing most likely labels(countering empty tuples)\n",
    "for i , tup in enumerate(pred_list):\n",
    "    if not tup: #if the tuple is empty\n",
    "      #analysing probs\n",
    "      prob = output[i]\n",
    "      top_index = prob.argsort()[-3:] #top 3 labels\n",
    "      final_label = all_labels[top_index]\n",
    "      pred_list[i] = tuple(final_label)\n",
    "\n"
   ]
  },
  {
   "cell_type": "markdown",
   "id": "f6e5c875",
   "metadata": {
    "id": "Ri4PepmuuiTr",
    "papermill": {
     "duration": 0.129516,
     "end_time": "2023-08-14T18:26:27.941681",
     "exception": false,
     "start_time": "2023-08-14T18:26:27.812165",
     "status": "completed"
    },
    "tags": []
   },
   "source": [
    "**MAKING CSV**\n",
    "\n",
    "---\n",
    "\n"
   ]
  },
  {
   "cell_type": "code",
   "execution_count": 16,
   "id": "c731e937",
   "metadata": {
    "execution": {
     "iopub.execute_input": "2023-08-14T18:26:28.200486Z",
     "iopub.status.busy": "2023-08-14T18:26:28.199791Z",
     "iopub.status.idle": "2023-08-14T18:26:28.224359Z",
     "shell.execute_reply": "2023-08-14T18:26:28.223555Z"
    },
    "executionInfo": {
     "elapsed": 8,
     "status": "aborted",
     "timestamp": 1690975860771,
     "user": {
      "displayName": "Sohan Choudhury",
      "userId": "03384336541033651196"
     },
     "user_tz": -330
    },
    "id": "juKl1bg4ukGI",
    "papermill": {
     "duration": 0.157741,
     "end_time": "2023-08-14T18:26:28.230675",
     "exception": false,
     "start_time": "2023-08-14T18:26:28.072934",
     "status": "completed"
    },
    "tags": []
   },
   "outputs": [
    {
     "name": "stdout",
     "output_type": "stream",
     "text": [
      "{'id': ['1070378532260470789t', '973746711964372993t', '1043031076787040257t', '1066338147527741440t', '963522018544152576t', '1027180081997930501t', '1015587373537562625t', '1010148037828726784t', '1024938906750537728t', '1087794890942099457t', '1096050258277224449t', '1109166251765571589t', '1164355472469704704t', '1049860045423435776t', '973082796859232256t', '1125356654483009537t', '1026937551309942784t', '1123909055599214598t', '1071079276433289216t', '999794111996727297t', '948219542442008576t', '1057586435564417025t', '974170030106492928t', '951940073934770176t', '1109958380301500417t', '1137165623514075138t', '1148976649624535042t', '1030265559395573761t', '1164194599293710338t', '1125215271373942784t', '1054786806183485440t', '967234030281216000t', '1160964931128369153t', '1088393073023950848t', '1014717937825898496t', '1142464446809272320t', '1061268802820849667t', '1170970178298867713t', '1018015755751903232t', '1042020166157185024t', '1128845248921264128t', '991498571718459392t', '1065658865780490242t', '970747474024464384t', '1129518608936136704t', '1090264312130678784t', '985914904145117185t', '1058040977238028288t', '1082408908579311618t', '1106341395533627392t', '1205901360497119233t', '1133439987372896256t', '964534834164051968t', '1038275422289620993t', '1193715600574554112t', '1180707844787712001t', '1006895910058582016t', '1136739300454699008t', '1068903986693095424t', '1041195794416644096t', '1207325524588212224t', '1008572015685431296t', '955030774738284544t', '1208996212248104960t', '1083126206491385856t', '968502750597263360t', '1102396138349518848t', '1075228335440048129t', '1203827326959665153t', '967234030281216000t', '1179124179901112320t', '1098984296679985152t', '1108875016618344450t', '1026957912206401538t', '1195741156178644993t', '1043698665871806464t', '1110307266614431746t', '1187346523073449984t', '1176730616131280896t', '1173979237855846400t', '1138823336853721089t', '1149497384595939329t', '1104813287911444480t', '1022525699213721602t', '991770103229403136t', '1056924182884188160t', '1140676144053678080t', '1030927060171145218t', '1115683769430753282t', '1071832076138237952t', '1122709949640056833t', '1140338704717946881t', '1018015755751903232t', '1046052957983305731t', '1080129483007377408t', '1171190611237429248t', '1100086196464742402t', '1112830830190186496t', '1087603081846685697t', '1008742236035715074t', '1137791624015224832t', '1207315349915484160t', '1109868805642178563t', '983341327214661633t', '1032725464333279232t', '1124303796505649152t', '1137028855842189313t', '1059752535517319170t', '1177542711047532546t', '1195538610541518848t', '996835161479241729t', '1150040895804399616t', '1120493619650101248t', '960889893718142976t', '1047567783133949952t', '1055137162188984320t', '1022311157715988480t', '1102396138349518848t', '1294890674219671552t', '1227788034109689859t', '1327362840802430977t', '1291014917445820418t', '1409906050342567941t', '1358519828542345219t', '1282430317396197376t', '1245395347246989315t', '1382012327206080514t', '1432970215084724230t', '1294886491966054400t', '1364306135117873164t', '1377439756234055680t', '1468296326874079236t', '1316787118388260864t', '1315103459939549184t', '1337530647888470018t', '1340101061558870017t', '1247782002385805315t', '1233600944862003200t', '1452104548814893059t', '1456261937205944332t', '1398535566350864385t', '1260185540931973121t', '1346279766576476160t', '1252212105442398208t', '1392701008011202560t', '1412821670759444482t', '1379576699604590600t', '1452623250161348622t', '1334854034990243848t', '1334267556241223681t', '1439215777278742540t', '1289211039993782273t', '1229446094595207168t', '1465343289062735873t', '1474484473727098882t', '1363532007888859137t', '1353669325484396545t', '1407186428421840898t', '1354112223904468993t', '1431301365331111937t', '1279769971543941121t', '1274977736117764099t', '1224716839315484672t', '1392120579386486789t', '1397717661828759553t', '1223904695162482689t', '1342461314694787072t', '1297386301717729280t', '1440765654135541763t', '1444274192069840897t', '1249543865675075590t', '1327672003764088834t', '1335670270879666176t', '1334037745862385667t', '1214583129282879488t', '1355797282399145986t', '1401122744608215044t', '1415695314435153925t', '1437098045284368389t', '1356672081916792836t', '1389412976583749632t', '1294967712058421249t', '1369666268136103944t', '1404151556824567809t', '1266196150668984321t', '1301271734943875074t', '1403601769473642497t', '1336770010061164547t', '1218430228151881728t', '1362806983657578496t', '1274025896509427712t', '1475268027113480196t', '1340660877339537409t', '1327028029600698369t', '1334159973518102534t', '1317790454478524419t', '1387982572395778048t', '1245394476895473665t', '1311950965940146176t', '1403068514768986115t', '1360385425056104450t', '1224600137055391744t', '1443041181466861576t', '1272726780269518849t', '1476945700508340254t', '1382683169065865220t', '1235102151048740866t', '1455962059871559691t', '1320875630486061057t', '1376193896460521477t', '1252663891064246273t', '1274358264227078146t', '1278738541644673024t', '1360264291018960898t', '1463896856040198154t', '1338158212030328845t', '1297196747136147457t', '1474392707757916160t', '1216386756003745793t', '1467579989902217226t', '1217828135586205697t', '1306017273795276800t', '1304862625298354178t', '1306574783002411010t', '1230854783365525504t', '1258366838515392512t', '1298722136081612802t', '1341617239930380289t', '1291054284797145088t', '1329898124643495936t', '1302294757922631680t', '1422708329600667650t', '1436999612334804993t', '1224577780274298882t', '1303837456236769282t', '1285188689346396160t', '1556502781678141440t', '1544819848122974210t', '1516946523929530368t', '1563621539081248770t', '1582868681671184384t', '1603498472400887836t', '1538659889429594112t', '1611006778442907649t', '1559852604120879104t', '1483830648796168194t', '1590455349852917760t', '1546069703537344512t', '1586763364981952512t', '1542177273817681921t', '1509872481464733768t', '1609802503146684417t', '1604887409107558400t', '1487929146932183041t', '1582068198538907648t', '1497521417084039175t', '1499022916897361924t', '1568385556136005638t', '1612507684573679617t', '1510208970203484169t', '1540349785139740672t', '1480037705161527298t', '1574533253859377153t', '1492098111522676740t', '1569715432386592769t', '1581385244716195840t', '1589051259243626496t', '1489899583501123585t', '1541811444945244163t', '1557616977367240704t', '1520485976535093251t', '1539620513684791298t', '1563329338686091264t', '1558359914866790400t', '1494122953608511492t', '1554914240976371712t', '1581006944156123136t', '1597993360547274753t', '1564643168783589378t', '1517910257707765762t', '1516775984997015552t', '1530637672104054785t', '1592968209027981312t', '1597641852743987200t', '1480940014276018177t', '1506024410993635335t', '1539624228361748485t', '1528051316584501248t', '1536464283181146113t', '1486023773195313153t', '1564048568335618048t', '1572075557084622850t', '1567636858254901250t', '1527247145488863233t', '1506851600970629120t', '1480339752679350280t', '1605997836549492737t', '1490677263108648961t', '1569408217154715648t', '1600173744139382785t', '1546980463423770625t', '1477755654001639424t', '1607809784748847109t', '1554664334889914369t', '1565076850216509450t', '1532535144480915456t', '1558807906396553217t', '1597363341324058627t', '1489700294095413249t', '1540462730599178240t', '1559551527177568258t', '1604247476529233923t', '1599399258549256192t', '1510289804776382466t', '1502029746741383171t', '1494343708120129536t', '1590977810126241794t', '1541998222083690496t', '1526561481029976064t', '1613024650208120832t', '1528422379717857280t', '1558572005942857733t', '1551598350927028228t', '1534594631329013760t', '1569440670544437248t', '1607051494158733314t', '1571885821900521473t', '1582068198538907648t', '1577349595683848193t', '1506415309057634310t', '1601635992200679426t', '1585265804374941696t', '1519063810337738753t', '1611328808371605504t', '1601383895542673409t', '1488692870580162560t', '1607957076009193479t', '1562491997327618053t', '1569732028198973440t', '1142104295833255941t', '1435711395140710400t', '1194095921514078208t', '1179802509948456960t', '1435981783942770693t', '1192548254589825025t', '1203873466065313793t', '1320461923058622464t', '1091809322114396160t', '1382367110060462080t', '1147762175349526528t', '1464758065388044290t', '1026589236848283648t', '1013541143223685120t', '1563329338686091264t', '1477403635206262793t', '1463181520059834376t', '1011247611423027200t', '1576237864605560835t', '1070895280508198912t', '1367410213368827904t', '1264564762677063682t', '1427869878212464642t', '1229071111440261121t', '1462662322586009603t', '1280902986022170624t', '1283907011596349440t', '1347812146961379328t', '1305242954513219585t', '1198568502279450624t', '1184922069403885570t', '1117478613140606976t', '1578245382693330945t', '1395716286009724934t', '1294014835445784577t', '1514264033205100545t', '1055817861757837312t', '1411159440401649665t', '1571194332056526856t', '1273415239405453312t', '1105940245290192896t', '1128339521458798593t', '1207343206020657152t', '974791819715383297t', '1035372807578898432t', '1072775871612764160t', '1505229388564025345t', '1315376915801419783t', '1372842885624827907t', '1237753927740858370t', '1471812243553763336t', '1240649418027741190t', '1003785133760139264t', '1428921494747287559t', '1380380759848968195t', '1193109327642537985t', '1398251621008564226t', '958728722357587970t', '1281475284747902976t', '1160351615360126981t', '1404736962624372739t', '1110307266614431746t', '1184191079807094784t', '1194291364181270534t', '1558573749233848321t', '1074678786984165376t', '961430652288688128t', '1161833791280881664t', '1175684574220865536t', '1442237952550064138t', '971618547175600128t', '1441632131227078665t', '1342210444354850818t', '972015490544623616t', '1060129762427908096t', '1223344398022463493t', '989006264163340290t', '1490753025862168576t', '1471099269461553156t', '1162232865590919170t', '1047326637165957120t', '1401750570403340290t', '1393584841011175434t', '1184666261176741888t', '1575815681135677440t', '1399268357736706050t', '1581322328423550977t', '1036300156877066240t', '1374720792764809216t', '1326744233546555393t', '1144935846623305730t', '1222343067983843328t', '1197521683806113793t', '1021336429413072896t', '1370474224524083206t', '1256548922912358400t', '962109376420081669t', '1450843980103659526t', '1364544568511897600t', '1429867335112925191t', '1344453684202270721t', '1579584386605158401t', '1105590312800583681t', '1212329385782599680t', '1390422798028394506t', '1163831793101021185t', '998516174194343936t', '977480646602952705t', '1383805932874846218t', '1063435772164861952t', '1065450121486188545t', '1286096449869156359t', '1154310504564830208t', '1207022553685848065t', '1189142140040953862t', '1542507320097181696t', '1079652213855870976t', '966803400791764993t', '1282894889508896774t', '1249733610472476674t', '1306932704059981824t', '1602604430515486720t', '1581904000672489473t', '1487075012817272840t', '1543595923519016961t', '1263991360874524674t', '1349874060646354944t', '1303121085660041217t', '1416051936860594182t', '1215264207555432448t', '1122076523392131073t', '1577032427318706176t', '1503050277670342658t', '1521458600278994945t', '1302879136113926144t', '986017219741126656t', '1388555067624669184t', '1359245245473562633t', '1072914615342895104t', '994266024244666368t', '1205902724400865281t', '1309555036259721217t', '1099937642169405440t', '1536674508731518985t', '1183314494874968064t', '1327581896243556352t', '1407551365669265408t'], 'preds': ['side-effect', 'side-effect', 'side-effect', 'side-effect', 'pharma side-effect', 'side-effect', 'side-effect', 'side-effect', 'side-effect', 'side-effect', 'pharma side-effect', 'pharma side-effect', 'side-effect', 'side-effect', 'side-effect', 'side-effect', 'pharma side-effect', 'side-effect', 'side-effect', 'side-effect', 'pharma side-effect', 'side-effect', 'side-effect', 'side-effect', 'side-effect', 'side-effect', 'side-effect', 'side-effect', 'side-effect', 'side-effect', 'pharma side-effect', 'pharma side-effect', 'pharma side-effect', 'pharma side-effect', 'pharma', 'pharma', 'side-effect', 'pharma side-effect', 'side-effect', 'pharma', 'pharma side-effect', 'side-effect', 'side-effect', 'pharma side-effect', 'pharma', 'side-effect', 'side-effect', 'side-effect', 'side-effect', 'ineffective side-effect', 'side-effect', 'side-effect', 'pharma side-effect', 'side-effect', 'side-effect', 'side-effect', 'side-effect', 'pharma side-effect', 'side-effect', 'ineffective side-effect', 'side-effect', 'pharma', 'side-effect', 'side-effect', 'side-effect', 'side-effect', 'side-effect', 'side-effect', 'side-effect', 'pharma side-effect', 'side-effect', 'side-effect', 'side-effect', 'ineffective side-effect', 'side-effect', 'side-effect', 'side-effect', 'side-effect', 'ineffective side-effect', 'side-effect', 'side-effect', 'side-effect', 'ineffective side-effect', 'ineffective side-effect', 'side-effect', 'side-effect', 'side-effect', 'side-effect', 'side-effect', 'pharma side-effect', 'side-effect', 'pharma side-effect', 'side-effect', 'side-effect', 'ineffective side-effect pharma', 'pharma side-effect', 'pharma side-effect', 'side-effect', 'pharma', 'side-effect', 'side-effect', 'side-effect', 'side-effect', 'ineffective side-effect', 'pharma side-effect', 'pharma', 'pharma side-effect', 'side-effect', 'pharma side-effect', 'pharma', 'side-effect', 'pharma side-effect', 'side-effect', 'side-effect', 'side-effect', 'side-effect', 'pharma', 'side-effect', 'side-effect', 'side-effect', 'side-effect', 'side-effect', 'side-effect', 'side-effect', 'side-effect', 'side-effect', 'side-effect', 'side-effect', 'pharma', 'pharma', 'side-effect', 'side-effect', 'side-effect', 'pharma side-effect', 'pharma side-effect', 'pharma side-effect', 'side-effect', 'pharma side-effect', 'pharma side-effect', 'side-effect', 'pharma side-effect', 'pharma', 'side-effect', 'pharma side-effect', 'side-effect', 'side-effect', 'side-effect', 'pharma', 'ineffective side-effect', 'side-effect', 'ineffective side-effect', 'ineffective side-effect', 'ineffective side-effect', 'side-effect', 'ineffective side-effect', 'ineffective side-effect', 'side-effect', 'side-effect', 'pharma side-effect', 'pharma side-effect', 'pharma', 'side-effect', 'side-effect', 'pharma', 'pharma', 'pharma side-effect', 'pharma', 'pharma side-effect', 'pharma', 'side-effect', 'side-effect', 'side-effect', 'side-effect', 'side-effect', 'side-effect', 'side-effect', 'side-effect', 'side-effect', 'side-effect', 'pharma', 'side-effect', 'pharma side-effect', 'side-effect', 'side-effect', 'side-effect', 'side-effect', 'side-effect', 'side-effect', 'side-effect', 'pharma side-effect', 'side-effect', 'pharma side-effect', 'pharma side-effect', 'side-effect', 'side-effect', 'side-effect', 'side-effect', 'side-effect', 'side-effect', 'side-effect', 'side-effect', 'side-effect', 'side-effect', 'side-effect', 'side-effect', 'side-effect', 'side-effect', 'side-effect', 'side-effect', 'side-effect', 'side-effect', 'side-effect', 'side-effect', 'side-effect', 'side-effect', 'pharma side-effect', 'side-effect', 'side-effect', 'pharma side-effect', 'side-effect', 'side-effect', 'side-effect', 'side-effect', 'side-effect', 'side-effect', 'pharma', 'side-effect', 'side-effect', 'side-effect', 'pharma', 'pharma', 'side-effect', 'side-effect', 'side-effect', 'side-effect', 'side-effect', 'side-effect', 'side-effect', 'side-effect', 'side-effect', 'side-effect', 'side-effect', 'ineffective side-effect', 'side-effect', 'side-effect', 'side-effect', 'side-effect', 'ineffective side-effect', 'side-effect', 'ineffective side-effect', 'side-effect', 'side-effect', 'side-effect', 'side-effect', 'side-effect', 'side-effect', 'side-effect', 'pharma side-effect', 'side-effect', 'pharma', 'pharma', 'side-effect', 'side-effect', 'ineffective side-effect', 'side-effect', 'side-effect', 'side-effect', 'side-effect', 'none side-effect', 'side-effect', 'ineffective side-effect', 'side-effect', 'pharma side-effect', 'side-effect', 'side-effect', 'side-effect', 'side-effect', 'side-effect', 'side-effect', 'pharma side-effect', 'side-effect', 'side-effect', 'side-effect', 'side-effect', 'side-effect', 'side-effect', 'pharma side-effect', 'pharma', 'side-effect', 'side-effect', 'side-effect', 'side-effect', 'side-effect', 'side-effect', 'side-effect', 'side-effect', 'side-effect', 'pharma side-effect', 'pharma side-effect', 'ineffective side-effect pharma', 'side-effect', 'side-effect', 'side-effect', 'side-effect', 'side-effect', 'side-effect', 'side-effect', 'side-effect', 'side-effect', 'side-effect', 'side-effect', 'side-effect', 'side-effect', 'side-effect', 'side-effect', 'side-effect', 'side-effect', 'pharma side-effect', 'side-effect', 'side-effect', 'side-effect', 'side-effect', 'side-effect', 'pharma', 'side-effect', 'side-effect', 'side-effect', 'side-effect', 'pharma side-effect', 'pharma', 'pharma', 'side-effect', 'side-effect', 'pharma', 'pharma side-effect', 'side-effect', 'pharma', 'side-effect', 'side-effect', 'pharma side-effect', 'side-effect', 'side-effect', 'ineffective side-effect', 'side-effect', 'pharma side-effect', 'side-effect', 'side-effect', 'side-effect', 'side-effect', 'ineffective side-effect', 'side-effect', 'side-effect', 'side-effect', 'pharma side-effect', 'side-effect', 'side-effect', 'side-effect', 'side-effect', 'side-effect', 'side-effect', 'pharma', 'side-effect', 'side-effect', 'side-effect', 'side-effect', 'side-effect', 'side-effect', 'side-effect', 'ineffective side-effect', 'side-effect', 'side-effect', 'side-effect', 'ineffective side-effect', 'pharma side-effect', 'side-effect', 'side-effect', 'side-effect', 'side-effect', 'side-effect', 'pharma side-effect', 'side-effect', 'side-effect', 'side-effect', 'side-effect', 'side-effect', 'ineffective side-effect', 'ineffective side-effect', 'side-effect', 'side-effect', 'side-effect', 'pharma side-effect', 'side-effect', 'side-effect', 'side-effect', 'side-effect', 'pharma', 'side-effect', 'pharma', 'ineffective side-effect', 'side-effect', 'side-effect', 'pharma side-effect', 'pharma side-effect', 'side-effect', 'side-effect', 'ineffective side-effect', 'side-effect', 'pharma', 'side-effect', 'side-effect', 'side-effect', 'side-effect', 'pharma side-effect', 'side-effect', 'side-effect', 'side-effect', 'ineffective side-effect', 'side-effect', 'side-effect', 'side-effect', 'pharma side-effect', 'side-effect', 'side-effect', 'side-effect', 'pharma', 'side-effect', 'pharma side-effect', 'side-effect', 'side-effect', 'side-effect', 'side-effect', 'side-effect', 'side-effect', 'pharma', 'ineffective side-effect', 'side-effect', 'side-effect', 'side-effect', 'side-effect', 'side-effect', 'pharma side-effect', 'pharma', 'side-effect', 'side-effect', 'side-effect', 'side-effect', 'side-effect', 'side-effect', 'pharma side-effect', 'ineffective side-effect', 'side-effect', 'pharma side-effect', 'side-effect', 'side-effect', 'side-effect', 'side-effect', 'side-effect', 'side-effect', 'side-effect', 'side-effect', 'side-effect', 'side-effect', 'side-effect', 'side-effect', 'side-effect', 'ineffective side-effect pharma', 'side-effect', 'ineffective side-effect', 'side-effect', 'side-effect', 'side-effect', 'side-effect', 'side-effect', 'side-effect', 'side-effect', 'side-effect', 'side-effect', 'side-effect', 'side-effect', 'ineffective side-effect', 'side-effect', 'side-effect', 'side-effect', 'side-effect', 'side-effect', 'side-effect']}\n"
     ]
    }
   ],
   "source": [
    "final_dict = {'id':[] , 'preds':[]}\n",
    "\n",
    "for i in range(len(ids)):\n",
    "    final_dict['id'].append(ids[i])\n",
    "    tuples = pred_list[i]\n",
    "    final_dict['preds'].append(' '.join(tuples))\n",
    "\n",
    "\n",
    "print(final_dict)\n",
    "\n",
    "final = pd.DataFrame(final_dict)\n",
    "final.to_csv('output_11823_1e6_30.csv' , index=False)\n"
   ]
  }
 ],
 "metadata": {
  "kernelspec": {
   "display_name": "Python 3",
   "language": "python",
   "name": "python3"
  },
  "language_info": {
   "codemirror_mode": {
    "name": "ipython",
    "version": 3
   },
   "file_extension": ".py",
   "mimetype": "text/x-python",
   "name": "python",
   "nbconvert_exporter": "python",
   "pygments_lexer": "ipython3",
   "version": "3.10.12"
  },
  "papermill": {
   "default_parameters": {},
   "duration": 1047.473265,
   "end_time": "2023-08-14T18:26:32.011976",
   "environment_variables": {},
   "exception": null,
   "input_path": "__notebook__.ipynb",
   "output_path": "__notebook__.ipynb",
   "parameters": {},
   "start_time": "2023-08-14T18:09:04.538711",
   "version": "2.4.0"
  },
  "widgets": {
   "application/vnd.jupyter.widget-state+json": {
    "state": {
     "005f86665f1a4d5f8640ab99649d8d52": {
      "model_module": "@jupyter-widgets/controls",
      "model_module_version": "1.5.0",
      "model_name": "HTMLModel",
      "state": {
       "_dom_classes": [],
       "_model_module": "@jupyter-widgets/controls",
       "_model_module_version": "1.5.0",
       "_model_name": "HTMLModel",
       "_view_count": null,
       "_view_module": "@jupyter-widgets/controls",
       "_view_module_version": "1.5.0",
       "_view_name": "HTMLView",
       "description": "",
       "description_tooltip": null,
       "layout": "IPY_MODEL_d6aeea9e88d944f59389a870cd8b71fe",
       "placeholder": "​",
       "style": "IPY_MODEL_a8d4988b1ed84c8ab9ef3e65b7e2ff95",
       "value": " 232k/232k [00:00&lt;00:00, 4.86MB/s]"
      }
     },
     "007af298379748baaa5506f545f94546": {
      "model_module": "@jupyter-widgets/controls",
      "model_module_version": "1.5.0",
      "model_name": "FloatProgressModel",
      "state": {
       "_dom_classes": [],
       "_model_module": "@jupyter-widgets/controls",
       "_model_module_version": "1.5.0",
       "_model_name": "FloatProgressModel",
       "_view_count": null,
       "_view_module": "@jupyter-widgets/controls",
       "_view_module_version": "1.5.0",
       "_view_name": "ProgressView",
       "bar_style": "success",
       "description": "",
       "description_tooltip": null,
       "layout": "IPY_MODEL_a75ab07bbca546ff98f6db0f1ae5864b",
       "max": 231508.0,
       "min": 0.0,
       "orientation": "horizontal",
       "style": "IPY_MODEL_dfcc8a155e464525b16ca7dc3cbdad93",
       "value": 231508.0
      }
     },
     "0831faf2f63641c9a4993409c3714168": {
      "model_module": "@jupyter-widgets/base",
      "model_module_version": "1.2.0",
      "model_name": "LayoutModel",
      "state": {
       "_model_module": "@jupyter-widgets/base",
       "_model_module_version": "1.2.0",
       "_model_name": "LayoutModel",
       "_view_count": null,
       "_view_module": "@jupyter-widgets/base",
       "_view_module_version": "1.2.0",
       "_view_name": "LayoutView",
       "align_content": null,
       "align_items": null,
       "align_self": null,
       "border": null,
       "bottom": null,
       "display": null,
       "flex": null,
       "flex_flow": null,
       "grid_area": null,
       "grid_auto_columns": null,
       "grid_auto_flow": null,
       "grid_auto_rows": null,
       "grid_column": null,
       "grid_gap": null,
       "grid_row": null,
       "grid_template_areas": null,
       "grid_template_columns": null,
       "grid_template_rows": null,
       "height": null,
       "justify_content": null,
       "justify_items": null,
       "left": null,
       "margin": null,
       "max_height": null,
       "max_width": null,
       "min_height": null,
       "min_width": null,
       "object_fit": null,
       "object_position": null,
       "order": null,
       "overflow": null,
       "overflow_x": null,
       "overflow_y": null,
       "padding": null,
       "right": null,
       "top": null,
       "visibility": null,
       "width": null
      }
     },
     "1584274467e24b6a9ee7caa5fa8e0088": {
      "model_module": "@jupyter-widgets/base",
      "model_module_version": "1.2.0",
      "model_name": "LayoutModel",
      "state": {
       "_model_module": "@jupyter-widgets/base",
       "_model_module_version": "1.2.0",
       "_model_name": "LayoutModel",
       "_view_count": null,
       "_view_module": "@jupyter-widgets/base",
       "_view_module_version": "1.2.0",
       "_view_name": "LayoutView",
       "align_content": null,
       "align_items": null,
       "align_self": null,
       "border": null,
       "bottom": null,
       "display": null,
       "flex": null,
       "flex_flow": null,
       "grid_area": null,
       "grid_auto_columns": null,
       "grid_auto_flow": null,
       "grid_auto_rows": null,
       "grid_column": null,
       "grid_gap": null,
       "grid_row": null,
       "grid_template_areas": null,
       "grid_template_columns": null,
       "grid_template_rows": null,
       "height": null,
       "justify_content": null,
       "justify_items": null,
       "left": null,
       "margin": null,
       "max_height": null,
       "max_width": null,
       "min_height": null,
       "min_width": null,
       "object_fit": null,
       "object_position": null,
       "order": null,
       "overflow": null,
       "overflow_x": null,
       "overflow_y": null,
       "padding": null,
       "right": null,
       "top": null,
       "visibility": null,
       "width": null
      }
     },
     "16e5edfb34c8453dac3f6482c08767ee": {
      "model_module": "@jupyter-widgets/controls",
      "model_module_version": "1.5.0",
      "model_name": "FloatProgressModel",
      "state": {
       "_dom_classes": [],
       "_model_module": "@jupyter-widgets/controls",
       "_model_module_version": "1.5.0",
       "_model_name": "FloatProgressModel",
       "_view_count": null,
       "_view_module": "@jupyter-widgets/controls",
       "_view_module_version": "1.5.0",
       "_view_name": "ProgressView",
       "bar_style": "success",
       "description": "",
       "description_tooltip": null,
       "layout": "IPY_MODEL_b9e9f0cfad5245a1a6cf0a924a200dcf",
       "max": 570.0,
       "min": 0.0,
       "orientation": "horizontal",
       "style": "IPY_MODEL_6df97dca7bef487c8803a4229e7d51b1",
       "value": 570.0
      }
     },
     "1bba9762445c4f0982f0fdc276def35b": {
      "model_module": "@jupyter-widgets/controls",
      "model_module_version": "1.5.0",
      "model_name": "ProgressStyleModel",
      "state": {
       "_model_module": "@jupyter-widgets/controls",
       "_model_module_version": "1.5.0",
       "_model_name": "ProgressStyleModel",
       "_view_count": null,
       "_view_module": "@jupyter-widgets/base",
       "_view_module_version": "1.2.0",
       "_view_name": "StyleView",
       "bar_color": null,
       "description_width": ""
      }
     },
     "24069d56e1dc47ccac9a8211e69ed0a1": {
      "model_module": "@jupyter-widgets/controls",
      "model_module_version": "1.5.0",
      "model_name": "DescriptionStyleModel",
      "state": {
       "_model_module": "@jupyter-widgets/controls",
       "_model_module_version": "1.5.0",
       "_model_name": "DescriptionStyleModel",
       "_view_count": null,
       "_view_module": "@jupyter-widgets/base",
       "_view_module_version": "1.2.0",
       "_view_name": "StyleView",
       "description_width": ""
      }
     },
     "27aa110fc8324552babf36fc5eb55c89": {
      "model_module": "@jupyter-widgets/base",
      "model_module_version": "1.2.0",
      "model_name": "LayoutModel",
      "state": {
       "_model_module": "@jupyter-widgets/base",
       "_model_module_version": "1.2.0",
       "_model_name": "LayoutModel",
       "_view_count": null,
       "_view_module": "@jupyter-widgets/base",
       "_view_module_version": "1.2.0",
       "_view_name": "LayoutView",
       "align_content": null,
       "align_items": null,
       "align_self": null,
       "border": null,
       "bottom": null,
       "display": null,
       "flex": null,
       "flex_flow": null,
       "grid_area": null,
       "grid_auto_columns": null,
       "grid_auto_flow": null,
       "grid_auto_rows": null,
       "grid_column": null,
       "grid_gap": null,
       "grid_row": null,
       "grid_template_areas": null,
       "grid_template_columns": null,
       "grid_template_rows": null,
       "height": null,
       "justify_content": null,
       "justify_items": null,
       "left": null,
       "margin": null,
       "max_height": null,
       "max_width": null,
       "min_height": null,
       "min_width": null,
       "object_fit": null,
       "object_position": null,
       "order": null,
       "overflow": null,
       "overflow_x": null,
       "overflow_y": null,
       "padding": null,
       "right": null,
       "top": null,
       "visibility": null,
       "width": null
      }
     },
     "44ce406578b44f80af83027a751d5274": {
      "model_module": "@jupyter-widgets/base",
      "model_module_version": "1.2.0",
      "model_name": "LayoutModel",
      "state": {
       "_model_module": "@jupyter-widgets/base",
       "_model_module_version": "1.2.0",
       "_model_name": "LayoutModel",
       "_view_count": null,
       "_view_module": "@jupyter-widgets/base",
       "_view_module_version": "1.2.0",
       "_view_name": "LayoutView",
       "align_content": null,
       "align_items": null,
       "align_self": null,
       "border": null,
       "bottom": null,
       "display": null,
       "flex": null,
       "flex_flow": null,
       "grid_area": null,
       "grid_auto_columns": null,
       "grid_auto_flow": null,
       "grid_auto_rows": null,
       "grid_column": null,
       "grid_gap": null,
       "grid_row": null,
       "grid_template_areas": null,
       "grid_template_columns": null,
       "grid_template_rows": null,
       "height": null,
       "justify_content": null,
       "justify_items": null,
       "left": null,
       "margin": null,
       "max_height": null,
       "max_width": null,
       "min_height": null,
       "min_width": null,
       "object_fit": null,
       "object_position": null,
       "order": null,
       "overflow": null,
       "overflow_x": null,
       "overflow_y": null,
       "padding": null,
       "right": null,
       "top": null,
       "visibility": null,
       "width": null
      }
     },
     "51e758c89bb7409c9e4a799ec200fed4": {
      "model_module": "@jupyter-widgets/controls",
      "model_module_version": "1.5.0",
      "model_name": "HTMLModel",
      "state": {
       "_dom_classes": [],
       "_model_module": "@jupyter-widgets/controls",
       "_model_module_version": "1.5.0",
       "_model_name": "HTMLModel",
       "_view_count": null,
       "_view_module": "@jupyter-widgets/controls",
       "_view_module_version": "1.5.0",
       "_view_name": "HTMLView",
       "description": "",
       "description_tooltip": null,
       "layout": "IPY_MODEL_df18d71e13544c27bc8cce7e94a74751",
       "placeholder": "​",
       "style": "IPY_MODEL_bc0cdbffe6704ebda31128a2078b086d",
       "value": "Downloading (…)solve/main/vocab.txt: 100%"
      }
     },
     "604972ec070d421280e375ffec089b12": {
      "model_module": "@jupyter-widgets/controls",
      "model_module_version": "1.5.0",
      "model_name": "DescriptionStyleModel",
      "state": {
       "_model_module": "@jupyter-widgets/controls",
       "_model_module_version": "1.5.0",
       "_model_name": "DescriptionStyleModel",
       "_view_count": null,
       "_view_module": "@jupyter-widgets/base",
       "_view_module_version": "1.2.0",
       "_view_name": "StyleView",
       "description_width": ""
      }
     },
     "6df97dca7bef487c8803a4229e7d51b1": {
      "model_module": "@jupyter-widgets/controls",
      "model_module_version": "1.5.0",
      "model_name": "ProgressStyleModel",
      "state": {
       "_model_module": "@jupyter-widgets/controls",
       "_model_module_version": "1.5.0",
       "_model_name": "ProgressStyleModel",
       "_view_count": null,
       "_view_module": "@jupyter-widgets/base",
       "_view_module_version": "1.2.0",
       "_view_name": "StyleView",
       "bar_color": null,
       "description_width": ""
      }
     },
     "74d7b8e7db8a40beadd9285f682fe395": {
      "model_module": "@jupyter-widgets/base",
      "model_module_version": "1.2.0",
      "model_name": "LayoutModel",
      "state": {
       "_model_module": "@jupyter-widgets/base",
       "_model_module_version": "1.2.0",
       "_model_name": "LayoutModel",
       "_view_count": null,
       "_view_module": "@jupyter-widgets/base",
       "_view_module_version": "1.2.0",
       "_view_name": "LayoutView",
       "align_content": null,
       "align_items": null,
       "align_self": null,
       "border": null,
       "bottom": null,
       "display": null,
       "flex": null,
       "flex_flow": null,
       "grid_area": null,
       "grid_auto_columns": null,
       "grid_auto_flow": null,
       "grid_auto_rows": null,
       "grid_column": null,
       "grid_gap": null,
       "grid_row": null,
       "grid_template_areas": null,
       "grid_template_columns": null,
       "grid_template_rows": null,
       "height": null,
       "justify_content": null,
       "justify_items": null,
       "left": null,
       "margin": null,
       "max_height": null,
       "max_width": null,
       "min_height": null,
       "min_width": null,
       "object_fit": null,
       "object_position": null,
       "order": null,
       "overflow": null,
       "overflow_x": null,
       "overflow_y": null,
       "padding": null,
       "right": null,
       "top": null,
       "visibility": null,
       "width": null
      }
     },
     "992de4fdc1c94ba9b6c984ddb9e63f87": {
      "model_module": "@jupyter-widgets/controls",
      "model_module_version": "1.5.0",
      "model_name": "HTMLModel",
      "state": {
       "_dom_classes": [],
       "_model_module": "@jupyter-widgets/controls",
       "_model_module_version": "1.5.0",
       "_model_name": "HTMLModel",
       "_view_count": null,
       "_view_module": "@jupyter-widgets/controls",
       "_view_module_version": "1.5.0",
       "_view_name": "HTMLView",
       "description": "",
       "description_tooltip": null,
       "layout": "IPY_MODEL_1584274467e24b6a9ee7caa5fa8e0088",
       "placeholder": "​",
       "style": "IPY_MODEL_24069d56e1dc47ccac9a8211e69ed0a1",
       "value": "Downloading (…)okenizer_config.json: 100%"
      }
     },
     "9db02beca49a46e0b1c0510c212b3581": {
      "model_module": "@jupyter-widgets/controls",
      "model_module_version": "1.5.0",
      "model_name": "DescriptionStyleModel",
      "state": {
       "_model_module": "@jupyter-widgets/controls",
       "_model_module_version": "1.5.0",
       "_model_name": "DescriptionStyleModel",
       "_view_count": null,
       "_view_module": "@jupyter-widgets/base",
       "_view_module_version": "1.2.0",
       "_view_name": "StyleView",
       "description_width": ""
      }
     },
     "a6eac37334ab459281ecb6318b246997": {
      "model_module": "@jupyter-widgets/base",
      "model_module_version": "1.2.0",
      "model_name": "LayoutModel",
      "state": {
       "_model_module": "@jupyter-widgets/base",
       "_model_module_version": "1.2.0",
       "_model_name": "LayoutModel",
       "_view_count": null,
       "_view_module": "@jupyter-widgets/base",
       "_view_module_version": "1.2.0",
       "_view_name": "LayoutView",
       "align_content": null,
       "align_items": null,
       "align_self": null,
       "border": null,
       "bottom": null,
       "display": null,
       "flex": null,
       "flex_flow": null,
       "grid_area": null,
       "grid_auto_columns": null,
       "grid_auto_flow": null,
       "grid_auto_rows": null,
       "grid_column": null,
       "grid_gap": null,
       "grid_row": null,
       "grid_template_areas": null,
       "grid_template_columns": null,
       "grid_template_rows": null,
       "height": null,
       "justify_content": null,
       "justify_items": null,
       "left": null,
       "margin": null,
       "max_height": null,
       "max_width": null,
       "min_height": null,
       "min_width": null,
       "object_fit": null,
       "object_position": null,
       "order": null,
       "overflow": null,
       "overflow_x": null,
       "overflow_y": null,
       "padding": null,
       "right": null,
       "top": null,
       "visibility": null,
       "width": null
      }
     },
     "a75ab07bbca546ff98f6db0f1ae5864b": {
      "model_module": "@jupyter-widgets/base",
      "model_module_version": "1.2.0",
      "model_name": "LayoutModel",
      "state": {
       "_model_module": "@jupyter-widgets/base",
       "_model_module_version": "1.2.0",
       "_model_name": "LayoutModel",
       "_view_count": null,
       "_view_module": "@jupyter-widgets/base",
       "_view_module_version": "1.2.0",
       "_view_name": "LayoutView",
       "align_content": null,
       "align_items": null,
       "align_self": null,
       "border": null,
       "bottom": null,
       "display": null,
       "flex": null,
       "flex_flow": null,
       "grid_area": null,
       "grid_auto_columns": null,
       "grid_auto_flow": null,
       "grid_auto_rows": null,
       "grid_column": null,
       "grid_gap": null,
       "grid_row": null,
       "grid_template_areas": null,
       "grid_template_columns": null,
       "grid_template_rows": null,
       "height": null,
       "justify_content": null,
       "justify_items": null,
       "left": null,
       "margin": null,
       "max_height": null,
       "max_width": null,
       "min_height": null,
       "min_width": null,
       "object_fit": null,
       "object_position": null,
       "order": null,
       "overflow": null,
       "overflow_x": null,
       "overflow_y": null,
       "padding": null,
       "right": null,
       "top": null,
       "visibility": null,
       "width": null
      }
     },
     "a8d4988b1ed84c8ab9ef3e65b7e2ff95": {
      "model_module": "@jupyter-widgets/controls",
      "model_module_version": "1.5.0",
      "model_name": "DescriptionStyleModel",
      "state": {
       "_model_module": "@jupyter-widgets/controls",
       "_model_module_version": "1.5.0",
       "_model_name": "DescriptionStyleModel",
       "_view_count": null,
       "_view_module": "@jupyter-widgets/base",
       "_view_module_version": "1.2.0",
       "_view_name": "StyleView",
       "description_width": ""
      }
     },
     "aad8c3db488a4c44a960f080d492a232": {
      "model_module": "@jupyter-widgets/base",
      "model_module_version": "1.2.0",
      "model_name": "LayoutModel",
      "state": {
       "_model_module": "@jupyter-widgets/base",
       "_model_module_version": "1.2.0",
       "_model_name": "LayoutModel",
       "_view_count": null,
       "_view_module": "@jupyter-widgets/base",
       "_view_module_version": "1.2.0",
       "_view_name": "LayoutView",
       "align_content": null,
       "align_items": null,
       "align_self": null,
       "border": null,
       "bottom": null,
       "display": null,
       "flex": null,
       "flex_flow": null,
       "grid_area": null,
       "grid_auto_columns": null,
       "grid_auto_flow": null,
       "grid_auto_rows": null,
       "grid_column": null,
       "grid_gap": null,
       "grid_row": null,
       "grid_template_areas": null,
       "grid_template_columns": null,
       "grid_template_rows": null,
       "height": null,
       "justify_content": null,
       "justify_items": null,
       "left": null,
       "margin": null,
       "max_height": null,
       "max_width": null,
       "min_height": null,
       "min_width": null,
       "object_fit": null,
       "object_position": null,
       "order": null,
       "overflow": null,
       "overflow_x": null,
       "overflow_y": null,
       "padding": null,
       "right": null,
       "top": null,
       "visibility": null,
       "width": null
      }
     },
     "b98e702c00e54ddaa982f4527dc5f027": {
      "model_module": "@jupyter-widgets/controls",
      "model_module_version": "1.5.0",
      "model_name": "HTMLModel",
      "state": {
       "_dom_classes": [],
       "_model_module": "@jupyter-widgets/controls",
       "_model_module_version": "1.5.0",
       "_model_name": "HTMLModel",
       "_view_count": null,
       "_view_module": "@jupyter-widgets/controls",
       "_view_module_version": "1.5.0",
       "_view_name": "HTMLView",
       "description": "",
       "description_tooltip": null,
       "layout": "IPY_MODEL_27aa110fc8324552babf36fc5eb55c89",
       "placeholder": "​",
       "style": "IPY_MODEL_604972ec070d421280e375ffec089b12",
       "value": "Downloading (…)lve/main/config.json: 100%"
      }
     },
     "b9e9f0cfad5245a1a6cf0a924a200dcf": {
      "model_module": "@jupyter-widgets/base",
      "model_module_version": "1.2.0",
      "model_name": "LayoutModel",
      "state": {
       "_model_module": "@jupyter-widgets/base",
       "_model_module_version": "1.2.0",
       "_model_name": "LayoutModel",
       "_view_count": null,
       "_view_module": "@jupyter-widgets/base",
       "_view_module_version": "1.2.0",
       "_view_name": "LayoutView",
       "align_content": null,
       "align_items": null,
       "align_self": null,
       "border": null,
       "bottom": null,
       "display": null,
       "flex": null,
       "flex_flow": null,
       "grid_area": null,
       "grid_auto_columns": null,
       "grid_auto_flow": null,
       "grid_auto_rows": null,
       "grid_column": null,
       "grid_gap": null,
       "grid_row": null,
       "grid_template_areas": null,
       "grid_template_columns": null,
       "grid_template_rows": null,
       "height": null,
       "justify_content": null,
       "justify_items": null,
       "left": null,
       "margin": null,
       "max_height": null,
       "max_width": null,
       "min_height": null,
       "min_width": null,
       "object_fit": null,
       "object_position": null,
       "order": null,
       "overflow": null,
       "overflow_x": null,
       "overflow_y": null,
       "padding": null,
       "right": null,
       "top": null,
       "visibility": null,
       "width": null
      }
     },
     "bc0cdbffe6704ebda31128a2078b086d": {
      "model_module": "@jupyter-widgets/controls",
      "model_module_version": "1.5.0",
      "model_name": "DescriptionStyleModel",
      "state": {
       "_model_module": "@jupyter-widgets/controls",
       "_model_module_version": "1.5.0",
       "_model_name": "DescriptionStyleModel",
       "_view_count": null,
       "_view_module": "@jupyter-widgets/base",
       "_view_module_version": "1.2.0",
       "_view_name": "StyleView",
       "description_width": ""
      }
     },
     "bfa86af9650849ffa4b4f56a245e05e0": {
      "model_module": "@jupyter-widgets/controls",
      "model_module_version": "1.5.0",
      "model_name": "HBoxModel",
      "state": {
       "_dom_classes": [],
       "_model_module": "@jupyter-widgets/controls",
       "_model_module_version": "1.5.0",
       "_model_name": "HBoxModel",
       "_view_count": null,
       "_view_module": "@jupyter-widgets/controls",
       "_view_module_version": "1.5.0",
       "_view_name": "HBoxView",
       "box_style": "",
       "children": [
        "IPY_MODEL_51e758c89bb7409c9e4a799ec200fed4",
        "IPY_MODEL_007af298379748baaa5506f545f94546",
        "IPY_MODEL_005f86665f1a4d5f8640ab99649d8d52"
       ],
       "layout": "IPY_MODEL_44ce406578b44f80af83027a751d5274"
      }
     },
     "d0293d08e167408182d248b3c1c146b0": {
      "model_module": "@jupyter-widgets/base",
      "model_module_version": "1.2.0",
      "model_name": "LayoutModel",
      "state": {
       "_model_module": "@jupyter-widgets/base",
       "_model_module_version": "1.2.0",
       "_model_name": "LayoutModel",
       "_view_count": null,
       "_view_module": "@jupyter-widgets/base",
       "_view_module_version": "1.2.0",
       "_view_name": "LayoutView",
       "align_content": null,
       "align_items": null,
       "align_self": null,
       "border": null,
       "bottom": null,
       "display": null,
       "flex": null,
       "flex_flow": null,
       "grid_area": null,
       "grid_auto_columns": null,
       "grid_auto_flow": null,
       "grid_auto_rows": null,
       "grid_column": null,
       "grid_gap": null,
       "grid_row": null,
       "grid_template_areas": null,
       "grid_template_columns": null,
       "grid_template_rows": null,
       "height": null,
       "justify_content": null,
       "justify_items": null,
       "left": null,
       "margin": null,
       "max_height": null,
       "max_width": null,
       "min_height": null,
       "min_width": null,
       "object_fit": null,
       "object_position": null,
       "order": null,
       "overflow": null,
       "overflow_x": null,
       "overflow_y": null,
       "padding": null,
       "right": null,
       "top": null,
       "visibility": null,
       "width": null
      }
     },
     "d6aeea9e88d944f59389a870cd8b71fe": {
      "model_module": "@jupyter-widgets/base",
      "model_module_version": "1.2.0",
      "model_name": "LayoutModel",
      "state": {
       "_model_module": "@jupyter-widgets/base",
       "_model_module_version": "1.2.0",
       "_model_name": "LayoutModel",
       "_view_count": null,
       "_view_module": "@jupyter-widgets/base",
       "_view_module_version": "1.2.0",
       "_view_name": "LayoutView",
       "align_content": null,
       "align_items": null,
       "align_self": null,
       "border": null,
       "bottom": null,
       "display": null,
       "flex": null,
       "flex_flow": null,
       "grid_area": null,
       "grid_auto_columns": null,
       "grid_auto_flow": null,
       "grid_auto_rows": null,
       "grid_column": null,
       "grid_gap": null,
       "grid_row": null,
       "grid_template_areas": null,
       "grid_template_columns": null,
       "grid_template_rows": null,
       "height": null,
       "justify_content": null,
       "justify_items": null,
       "left": null,
       "margin": null,
       "max_height": null,
       "max_width": null,
       "min_height": null,
       "min_width": null,
       "object_fit": null,
       "object_position": null,
       "order": null,
       "overflow": null,
       "overflow_x": null,
       "overflow_y": null,
       "padding": null,
       "right": null,
       "top": null,
       "visibility": null,
       "width": null
      }
     },
     "d89f086b903f48c1bbdc1d9c15233786": {
      "model_module": "@jupyter-widgets/controls",
      "model_module_version": "1.5.0",
      "model_name": "HTMLModel",
      "state": {
       "_dom_classes": [],
       "_model_module": "@jupyter-widgets/controls",
       "_model_module_version": "1.5.0",
       "_model_name": "HTMLModel",
       "_view_count": null,
       "_view_module": "@jupyter-widgets/controls",
       "_view_module_version": "1.5.0",
       "_view_name": "HTMLView",
       "description": "",
       "description_tooltip": null,
       "layout": "IPY_MODEL_0831faf2f63641c9a4993409c3714168",
       "placeholder": "​",
       "style": "IPY_MODEL_f700611e4ae342cca7b3c335891688d3",
       "value": " 28.0/28.0 [00:00&lt;00:00, 2.12kB/s]"
      }
     },
     "df18d71e13544c27bc8cce7e94a74751": {
      "model_module": "@jupyter-widgets/base",
      "model_module_version": "1.2.0",
      "model_name": "LayoutModel",
      "state": {
       "_model_module": "@jupyter-widgets/base",
       "_model_module_version": "1.2.0",
       "_model_name": "LayoutModel",
       "_view_count": null,
       "_view_module": "@jupyter-widgets/base",
       "_view_module_version": "1.2.0",
       "_view_name": "LayoutView",
       "align_content": null,
       "align_items": null,
       "align_self": null,
       "border": null,
       "bottom": null,
       "display": null,
       "flex": null,
       "flex_flow": null,
       "grid_area": null,
       "grid_auto_columns": null,
       "grid_auto_flow": null,
       "grid_auto_rows": null,
       "grid_column": null,
       "grid_gap": null,
       "grid_row": null,
       "grid_template_areas": null,
       "grid_template_columns": null,
       "grid_template_rows": null,
       "height": null,
       "justify_content": null,
       "justify_items": null,
       "left": null,
       "margin": null,
       "max_height": null,
       "max_width": null,
       "min_height": null,
       "min_width": null,
       "object_fit": null,
       "object_position": null,
       "order": null,
       "overflow": null,
       "overflow_x": null,
       "overflow_y": null,
       "padding": null,
       "right": null,
       "top": null,
       "visibility": null,
       "width": null
      }
     },
     "dfcc8a155e464525b16ca7dc3cbdad93": {
      "model_module": "@jupyter-widgets/controls",
      "model_module_version": "1.5.0",
      "model_name": "ProgressStyleModel",
      "state": {
       "_model_module": "@jupyter-widgets/controls",
       "_model_module_version": "1.5.0",
       "_model_name": "ProgressStyleModel",
       "_view_count": null,
       "_view_module": "@jupyter-widgets/base",
       "_view_module_version": "1.2.0",
       "_view_name": "StyleView",
       "bar_color": null,
       "description_width": ""
      }
     },
     "e2c3f0939ab043d1bdf35485cd76fae0": {
      "model_module": "@jupyter-widgets/controls",
      "model_module_version": "1.5.0",
      "model_name": "HBoxModel",
      "state": {
       "_dom_classes": [],
       "_model_module": "@jupyter-widgets/controls",
       "_model_module_version": "1.5.0",
       "_model_name": "HBoxModel",
       "_view_count": null,
       "_view_module": "@jupyter-widgets/controls",
       "_view_module_version": "1.5.0",
       "_view_name": "HBoxView",
       "box_style": "",
       "children": [
        "IPY_MODEL_992de4fdc1c94ba9b6c984ddb9e63f87",
        "IPY_MODEL_ee18f927913042bb85257fd81160497c",
        "IPY_MODEL_d89f086b903f48c1bbdc1d9c15233786"
       ],
       "layout": "IPY_MODEL_a6eac37334ab459281ecb6318b246997"
      }
     },
     "e58b9b8ac5024071990eae2ff58d9ef2": {
      "model_module": "@jupyter-widgets/controls",
      "model_module_version": "1.5.0",
      "model_name": "HTMLModel",
      "state": {
       "_dom_classes": [],
       "_model_module": "@jupyter-widgets/controls",
       "_model_module_version": "1.5.0",
       "_model_name": "HTMLModel",
       "_view_count": null,
       "_view_module": "@jupyter-widgets/controls",
       "_view_module_version": "1.5.0",
       "_view_name": "HTMLView",
       "description": "",
       "description_tooltip": null,
       "layout": "IPY_MODEL_aad8c3db488a4c44a960f080d492a232",
       "placeholder": "​",
       "style": "IPY_MODEL_9db02beca49a46e0b1c0510c212b3581",
       "value": " 570/570 [00:00&lt;00:00, 42.8kB/s]"
      }
     },
     "ee18f927913042bb85257fd81160497c": {
      "model_module": "@jupyter-widgets/controls",
      "model_module_version": "1.5.0",
      "model_name": "FloatProgressModel",
      "state": {
       "_dom_classes": [],
       "_model_module": "@jupyter-widgets/controls",
       "_model_module_version": "1.5.0",
       "_model_name": "FloatProgressModel",
       "_view_count": null,
       "_view_module": "@jupyter-widgets/controls",
       "_view_module_version": "1.5.0",
       "_view_name": "ProgressView",
       "bar_style": "success",
       "description": "",
       "description_tooltip": null,
       "layout": "IPY_MODEL_74d7b8e7db8a40beadd9285f682fe395",
       "max": 28.0,
       "min": 0.0,
       "orientation": "horizontal",
       "style": "IPY_MODEL_1bba9762445c4f0982f0fdc276def35b",
       "value": 28.0
      }
     },
     "f700611e4ae342cca7b3c335891688d3": {
      "model_module": "@jupyter-widgets/controls",
      "model_module_version": "1.5.0",
      "model_name": "DescriptionStyleModel",
      "state": {
       "_model_module": "@jupyter-widgets/controls",
       "_model_module_version": "1.5.0",
       "_model_name": "DescriptionStyleModel",
       "_view_count": null,
       "_view_module": "@jupyter-widgets/base",
       "_view_module_version": "1.2.0",
       "_view_name": "StyleView",
       "description_width": ""
      }
     },
     "fbedf4cca5ff4934b3e5c5862772b1c3": {
      "model_module": "@jupyter-widgets/controls",
      "model_module_version": "1.5.0",
      "model_name": "HBoxModel",
      "state": {
       "_dom_classes": [],
       "_model_module": "@jupyter-widgets/controls",
       "_model_module_version": "1.5.0",
       "_model_name": "HBoxModel",
       "_view_count": null,
       "_view_module": "@jupyter-widgets/controls",
       "_view_module_version": "1.5.0",
       "_view_name": "HBoxView",
       "box_style": "",
       "children": [
        "IPY_MODEL_b98e702c00e54ddaa982f4527dc5f027",
        "IPY_MODEL_16e5edfb34c8453dac3f6482c08767ee",
        "IPY_MODEL_e58b9b8ac5024071990eae2ff58d9ef2"
       ],
       "layout": "IPY_MODEL_d0293d08e167408182d248b3c1c146b0"
      }
     }
    },
    "version_major": 2,
    "version_minor": 0
   }
  }
 },
 "nbformat": 4,
 "nbformat_minor": 5
}
